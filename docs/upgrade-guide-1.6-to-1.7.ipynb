{
 "cells": [
  {
   "attachments": {},
   "cell_type": "markdown",
   "metadata": {
    "tags": [
     "text"
    ]
   },
   "source": [
    "# How to upgrade Kubeflow from 1.6 to 1.7\n",
    "\n",
    "Version 1.7 of Kubeflow was released in March 2023, together with the bundle and charms of Charmed Kubeflow.\n",
    "To upgarde existing 1.6 Kubeflow deployment each individual charm needs to be refreshed using `juju refresh` command. In addition, some special steps need to be taken to upgrade Istio, backup data, and ensure existing default profile stays intact.\n",
    "\n",
    "**Contents:**\n",
    "\n",
    "- [Backup data]()\n",
    "- [Upgrade the charms]()\n"
   ]
  },
  {
   "attachments": {},
   "cell_type": "markdown",
   "metadata": {
    "tags": [
     "text"
    ]
   },
   "source": [
    "## Prerequisites\n",
    "\n",
    "- Access to dashboard of exising Charmed Kubeflow 1.6 deployment.\n",
    "- Access to Kubernetes cluster where existing Charmed Kubeflow 1.6 is deployed.\n",
    "- Tools: `kubectl`, `juju`\n"
   ]
  },
  {
   "attachments": {},
   "cell_type": "markdown",
   "metadata": {
    "tags": [
     "text"
    ]
   },
   "source": [
    "## Before upgrade\n",
    "\n",
    "**WARNING: To prevent catastrophic data loss all important data should be backed up according to the policies of your organization.**\n",
    "\n",
    "Before upgrading Charmed Kubeflow it is recommened to do the following:\n",
    "\n",
    "- Stop all Notebooks.\n",
    "- Stop all Tensorboards.\n",
    "- Review any important data that needs to be backed up and preform backup procedures according to the policies of your organization.\n"
   ]
  },
  {
   "attachments": {},
   "cell_type": "markdown",
   "metadata": {
    "tags": [
     "text"
    ]
   },
   "source": [
    "### Update default 'admin' profile to prevent its deletion\n",
    "\n",
    "In Charmed Kubeflow 1.6 a special default profile named 'admin' is created at deployment time. When upgrading to 1.7 this default profile needs to be updated in order to prevent its deletion.\n",
    "\n",
    "Follow the folowing steps prior to upgarde to preserved default 'admin' profile.\n"
   ]
  },
  {
   "cell_type": "code",
   "execution_count": null,
   "metadata": {
    "tags": [
     "code"
    ],
    "vscode": {
     "languageId": "plaintext"
    }
   },
   "outputs": [],
   "source": [
    "juju switch kubeflow\n",
    "kubectl annotate profile admin controller.juju.is/id-\n",
    "kubectl annotate profile admin model.juju.is/id-\n",
    "kubectl label profile admin app.juju.is/created-by-\n",
    "kubectl label profile admin app.kubernetes.io/managed-by-\n",
    "kubectl label profile admin app.kubernetes.io/name-\n",
    "kubectl label profile admin model.juju.is/name-"
   ]
  },
  {
   "attachments": {},
   "cell_type": "markdown",
   "metadata": {
    "tags": [
     "text"
    ]
   },
   "source": [
    "### Prepare Istio for upgrade\n",
    "TBD"
   ]
  },
  {
   "attachments": {},
   "cell_type": "markdown",
   "metadata": {
    "tags": [
     "text"
    ]
   },
   "source": [
    "## Upgrade Istio\n",
    "TBD"
   ]
  },
  {
   "attachments": {},
   "cell_type": "markdown",
   "metadata": {
    "tags": [
     "text"
    ]
   },
   "source": [
    "## Upgrade the charms\n",
    "\n",
    "To upgarde Charmed Kubeflow each charm needs to be refreshed:\n"
   ]
  },
  {
   "cell_type": "code",
   "execution_count": null,
   "metadata": {
    "tags": [
     "code"
    ],
    "vscode": {
     "languageId": "plaintext"
    }
   },
   "outputs": [],
   "source": [
    "juju switch kubeflow\n",
    "juju refresh admission-webhook --channel latest/edge\n",
    "juju refresh argo-controller --channel latest/edge\n",
    "juju refresh argo-server --channel latest/edge\n",
    "juju refresh dex-auth --channel latest/edge\n",
    "juju refresh jupyter-controller --channel latest/edge\n",
    "juju refresh jupyter-ui --channel latest/edge\n",
    "juju refresh katib-controller --channel latest/edge\n",
    "juju refresh katib-db --channel latest/edge\n",
    "juju refresh katib-db-manager --channel latest/edge\n",
    "juju refresh katib-ui --channel latest/edge\n",
    "juju refresh kfp-api --channel latest/edge\n",
    "juju refresh kfp-db --channel latest/edge\n",
    "juju refresh kfp-persistence --channel latest/edge\n",
    "juju refresh kfp-profile-controller --channel latest/edge\n",
    "juju refresh kfp-schedwf --channel latest/edge\n",
    "juju refresh kfp-ui --channel latest/edge\n",
    "juju refresh kfp-viewer --channel latest/edge\n",
    "juju refresh kfp-viz --channel latest/edge\n",
    "juju refresh kubeflow-dashboard --channel latest/edge\n",
    "juju refresh kubeflow-profiles --channel latest/edge\n",
    "juju refresh kubeflow-roles --channel latest/edge\n",
    "juju refresh kubeflow-volumes --channel latest/edge\n",
    "juju refresh metacontroller-operator --channel latest/edge\n",
    "juju refresh minio --channel latest/edge\n",
    "juju refresh oidc-gatekeeper --channel latest/edge\n",
    "juju refresh seldon-controller-manager --channel latest/edge\n",
    "juju refresh tensorboard-controller --channel latest/edge\n",
    "juju refresh tensorboards-web-app --channel latest/edge\n",
    "juju refresh training-operator --channel latest/edge\n",
    "# special upgrade\n",
    "juju refresh istio-ingressgateway --channel latest/edge\n",
    "juju refresh istio-pilot --channel latest/edge\n"
   ]
  },
  {
   "attachments": {},
   "cell_type": "markdown",
   "metadata": {
    "tags": [
     "text"
    ]
   },
   "source": [
    "You can control the progress of the update by running:"
   ]
  },
  {
   "cell_type": "code",
   "execution_count": null,
   "metadata": {
    "tags": [
     "code"
    ],
    "vscode": {
     "languageId": "plaintext"
    }
   },
   "outputs": [],
   "source": [
    "watch -c juju status --color"
   ]
  }
 ],
 "metadata": {
  "language_info": {
   "name": "python"
  },
  "orig_nbformat": 4
 },
 "nbformat": 4,
 "nbformat_minor": 2
}
