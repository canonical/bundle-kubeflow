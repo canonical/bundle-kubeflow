{
 "cells": [
  {
   "attachments": {},
   "cell_type": "markdown",
   "metadata": {
    "tags": [
     "text"
    ]
   },
   "source": [
    "# How to upgrade Kubeflow from 1.6 to 1.7\n",
    "\n",
    "Version 1.7 of Kubeflow was released in March 2023, together with the bundle and charms of Charmed Kubeflow.\n",
    "To upgarde existing 1.6 Kubeflow deployment each individual charm needs to be refreshed using `juju refresh` command. In addition, some special steps need to be taken to upgrade Istio, backup data, deploy new features, and ensure existing default profile stays intact.\n",
    "\n",
    "**Prerequisites**\n",
    "\n",
    "- Access to dashboard of exising Charmed Kubeflow 1.6 deployment.\n",
    "- Access to Kubernetes cluster where existing Charmed Kubeflow 1.6 is deployed.\n",
    "- Tools: `kubectl`, `juju`\n",
    "\n",
    "**Contents:**\n",
    "\n",
    "- [Before upgrade](#before-upgrade)\n",
    "  - [Update default 'admin' profile to prevent its deletion](Update-default-admin-profile-to-prevent-its-deletion)\n",
    "- [Upgrade Istio](#upgrade-istio)\n",
    "- [Upgrade charms](#upgrade-charms)\n",
    "- [Deploy KNative charms](#deploy-knative-charms)\n",
    "- [Verify upgrade](#verify-upgrade)\n"
   ]
  },
  {
   "attachments": {},
   "cell_type": "markdown",
   "metadata": {
    "tags": [
     "text"
    ]
   },
   "source": [
    "## Before upgrade\n",
    "\n",
    "**WARNING: To prevent catastrophic data loss all important data should be backed up according to the policies of your organization.**\n",
    "\n",
    "Before upgrading Charmed Kubeflow it is recommened to do the following:\n",
    "\n",
    "- Stop all Notebooks.\n",
    "- Review any important data that needs to be backed up and preform backup procedures according to the policies of your organization.\n",
    "\n",
    "All upgrade steps should be done in `kubeflow` model. Before performing the upgrade switch to `kubeflow` model:\n"
   ]
  },
  {
   "cell_type": "code",
   "execution_count": null,
   "metadata": {
    "tags": [
     "code"
    ],
    "vscode": {
     "languageId": "plaintext"
    }
   },
   "outputs": [],
   "source": [
    "juju switch kubeflow"
   ]
  },
  {
   "attachments": {},
   "cell_type": "markdown",
   "metadata": {
    "tags": [
     "text"
    ]
   },
   "source": [
    "### Update default `admin` profile to prevent its deletion\n",
    "\n",
    "In Charmed Kubeflow 1.6 a special default profile named `admin` is created at deployment time. When upgrading to 1.7 this default profile needs to be updated in order to prevent its deletion.\n",
    "\n",
    "Follow the folowing steps prior to upgarde to preserved default `admin` profile.\n"
   ]
  },
  {
   "cell_type": "code",
   "execution_count": null,
   "metadata": {
    "tags": [
     "code"
    ],
    "vscode": {
     "languageId": "plaintext"
    }
   },
   "outputs": [],
   "source": [
    "kubectl annotate profile admin controller.juju.is/id-\n",
    "kubectl annotate profile admin model.juju.is/id-\n",
    "kubectl label profile admin app.juju.is/created-by-\n",
    "kubectl label profile admin app.kubernetes.io/managed-by-\n",
    "kubectl label profile admin app.kubernetes.io/name-\n",
    "kubectl label profile admin model.juju.is/name-"
   ]
  },
  {
   "attachments": {},
   "cell_type": "markdown",
   "metadata": {
    "tags": [
     "text"
    ]
   },
   "source": [
    "## Upgrade Istio\n",
    "\n",
    "Upgrade of Istio service mesh components is performed according to Istio instructions and invloves upgrading charms in sequence. Note that `istio-gateway` charm should always me removed before starting upgrade. For more details on Istio upgrade and how to debug failed upgardes refer to [this document](https://github.com/canonical/istio-operators/blob/main/charms/istio-pilot/README.md)\n",
    "\n",
    "1. Remove `istio-ingressgaeway` application and corresponding relation with `istio-pilot`:"
   ]
  },
  {
   "cell_type": "code",
   "execution_count": null,
   "metadata": {
    "tags": [
     "code"
    ],
    "vscode": {
     "languageId": "plaintext"
    }
   },
   "outputs": [],
   "source": [
    "juju remove-relation istio-pilot istio-ingressgateway\n",
    "juju remove-application istio-ingressgateway"
   ]
  },
  {
   "attachments": {},
   "cell_type": "markdown",
   "metadata": {
    "tags": [
     "text"
    ]
   },
   "source": [
    "2. Ensure that all related resources of `isiot-ingressgateway` are properly removed. The following command should succeed (return `0`)"
   ]
  },
  {
   "cell_type": "code",
   "execution_count": null,
   "metadata": {
    "tags": [
     "code"
    ],
    "vscode": {
     "languageId": "plaintext"
    }
   },
   "outputs": [],
   "source": [
    "kubectl -n kubeflow get deploy istio-ingressgateway-workload 2> >(grep -q \"NotFound\" && echo $?)"
   ]
  },
  {
   "attachments": {},
   "cell_type": "markdown",
   "metadata": {
    "tags": [
     "text"
    ]
   },
   "source": [
    "*Troubleshooting of `istio-ingtessgateway` removal*\n",
    "\n",
    "If required, remove `istio-ingressgateway` with `--force` option and delete `istio-ingressgateway-workload` manually:\n",
    "```\n",
    "juju remove-application --force istio-ingressgateway\n",
    "kubectl -n kubeflow delete deploy istio-ingressgateway-workload\n",
    "```"
   ]
  },
  {
   "attachments": {},
   "cell_type": "markdown",
   "metadata": {},
   "source": [
    "3. Upgrade `istio-pilot` charm in sequence. Wait for each `refresh` command to finish and upgrade to intermediate version is complete:"
   ]
  },
  {
   "cell_type": "code",
   "execution_count": null,
   "metadata": {
    "tags": [
     "code"
    ],
    "vscode": {
     "languageId": "plaintext"
    }
   },
   "outputs": [],
   "source": [
    "\n",
    "juju refresh istio-pilot --channel 1.12/stable\n",
    "juju refresh istio-pilot --channel 1.13/stable\n",
    "juju refresh istio-pilot --channel 1.14/stable\n",
    "juju refresh istio-pilot --channel 1.15/stable\n",
    "juju refresh istio-pilot --channel 1.16/stable\n"
   ]
  },
  {
   "attachments": {},
   "cell_type": "markdown",
   "metadata": {
    "tags": [
     "text"
    ]
   },
   "source": [
    "4. Deploy `istio-ingressgateway` add relation between `istio-pilot` and `istio-gateway`:"
   ]
  },
  {
   "cell_type": "code",
   "execution_count": null,
   "metadata": {
    "tags": [
     "code"
    ],
    "vscode": {
     "languageId": "plaintext"
    }
   },
   "outputs": [],
   "source": [
    "juju deploy istio-gateway --channel 1.16/stable --trust --config kind=ingress istio-ingressgateway\n",
    "juju relate istio-pilot istio-ingressgateway"
   ]
  },
  {
   "attachments": {},
   "cell_type": "markdown",
   "metadata": {
    "tags": [
     "text"
    ]
   },
   "source": [
    "## Upgrade charms\n",
    "\n",
    "To upgarde Charmed Kubeflow each charm needs to be refreshed. It is recommended to wait for each charm to finish its upgrade before proceeding with the next.\n"
   ]
  },
  {
   "cell_type": "code",
   "execution_count": null,
   "metadata": {
    "tags": [
     "code"
    ],
    "vscode": {
     "languageId": "plaintext"
    }
   },
   "outputs": [],
   "source": [
    "juju refresh admission-webhook --channel 1.7/stable\n",
    "juju refresh argo-controller --channel 3.3/stable\n",
    "juju refresh argo-server --channel 3.3/stable\n",
    "juju refresh dex-auth --channel 2.31/stable\n",
    "juju refresh jupyter-controller --channel 1.7/stable\n",
    "juju refresh jupyter-ui --channel 1.7/stable\n",
    "juju refresh katib-controller --channel 0.15/stable\n",
    "juju refresh katib-db --channel latest/stable\n",
    "juju refresh katib-db-manager --channel 0.15/stable\n",
    "juju refresh katib-ui --channel 0.15/stable\n",
    "juju refresh kfp-api --channel 2.0/stable\n",
    "juju refresh kfp-db --channel latest/stable\n",
    "juju refresh kfp-persistence --channel 2.0/stable\n",
    "juju refresh kfp-profile-controller --channel 2.0/stable\n",
    "juju refresh kfp-schedwf --channel 2.0/stable\n",
    "juju refresh kfp-ui --channel 2.0/stable\n",
    "juju refresh kfp-viewer --channel 2.0/stable\n",
    "juju refresh kfp-viz --channel 2.0/stable\n",
    "juju refresh kubeflow-dashboard --channel 1.7/stable\n",
    "juju refresh kubeflow-profiles --channel 1.7/stable\n",
    "juju refresh kubeflow-roles --channel 1.7/stable\n",
    "juju refresh kubeflow-volumes --channel 1.7/stable\n",
    "juju refresh metacontroller-operator --channel 2.0/stable\n",
    "juju refresh minio --channel ckf-1.7/stable\n",
    "juju refresh oidc-gatekeeper --channel ckf-1.7/stable\n",
    "juju refresh seldon-controller-manager --channel 1.15/stable\n",
    "juju refresh tensorboard-controller --channel 1.7/stable\n",
    "juju refresh tensorboards-web-app --channel 1.7/stable\n",
    "juju refresh training-operator --channel 1.6/stable"
   ]
  },
  {
   "attachments": {},
   "cell_type": "markdown",
   "metadata": {
    "tags": [
     "text"
    ]
   },
   "source": [
    "## Deploy KNative charms\n",
    "\n",
    "KNative is new addition to Charmed Kubeflow 1.7 and need to be deployed separately as part of the upgrade:"
   ]
  },
  {
   "cell_type": "code",
   "execution_count": null,
   "metadata": {
    "tags": [
     "code"
    ],
    "vscode": {
     "languageId": "plaintext"
    }
   },
   "outputs": [],
   "source": [
    "juju deploy knative-operator --trust --channel 1.8/stable\n",
    "juju deploy knative-serving --config namespace=\"knative-serving\" --config istio.gateway.namespace=kubeflow --config istio.gateway.name=ingressgateway --channel 1.8/stable --trust\n",
    "juju deploy knative-eventing --config namespace=\"knative-eventing\" --channel 1.8/stable --trust\n",
    "juju deploy kserve-controller --channel 0.10/stable --trust"
   ]
  },
  {
   "attachments": {},
   "cell_type": "markdown",
   "metadata": {
    "tags": [
     "text"
    ]
   },
   "source": [
    "## Verify upgrade\n",
    "\n",
    "You can control the progress of the update by running, when all services are in `active`/`idle` state then upgrade should be finished."
   ]
  },
  {
   "cell_type": "code",
   "execution_count": null,
   "metadata": {
    "tags": [
     "code"
    ],
    "vscode": {
     "languageId": "plaintext"
    }
   },
   "outputs": [],
   "source": [
    "watch -c juju status --color"
   ]
  }
 ],
 "metadata": {
  "language_info": {
   "name": "python"
  },
  "orig_nbformat": 4
 },
 "nbformat": 4,
 "nbformat_minor": 2
}
