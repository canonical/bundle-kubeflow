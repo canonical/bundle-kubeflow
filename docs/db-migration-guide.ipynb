{
 "cells": [
  {
   "cell_type": "markdown",
   "metadata": {},
   "source": [
    "# Charmed Kubeflow Databases Migration Guide\n",
    "\n",
    "There are two databases in Charmed Kubeflow - `katib-db` and `kfp-db`. In Charmed Kubeflow 1.7 these MariaDB databases deployed by `charmed-osm-mariadb-k8s` charm. Since release 1.7 there is an option to relate charm to new MySQL database that is deployed by `mysql-k8s` charm. In cases where previous deployment has MariaDB a migration of database is required."
   ]
  },
  {
   "cell_type": "markdown",
   "metadata": {},
   "source": [
    "## Prerequisites\n",
    "\n",
    "In order to perform migration the following tools should be installed on client machine that has access to Charmed Kubeflow deployment:\n",
    "- `mysql-client` (install by running `sudo apt install mysql-client`)"
   ]
  },
  {
   "cell_type": "markdown",
   "metadata": {},
   "source": [
    "## Katib DB migration"
   ]
  },
  {
   "cell_type": "code",
   "execution_count": null,
   "metadata": {
    "vscode": {
     "languageId": "shellscript"
    }
   },
   "outputs": [],
   "source": [
    "# obtain username and password of existing MariadDB database from DB relation\n",
    "# in Charmed Kubeflow 1.6 and 1.7 username used is `root` and password is specified in `mysql` relation by\n",
    "# 'root_password'\n",
    "KATIB_DB_MYSQL_RELATION_ID=$(juju show-unit katib-db/0 | yq '.[] | .relation-info | select(.[].endpoint == \"mysql\") | .[0] | .relation-id')\n",
    "KATIB_DB_USER=root\n",
    "KATIB_DB_PASSWORD=$(bash -c \"juju run --unit katib-db/0 'relation-get -r $KATIB_DB_MYSQL_RELATION_ID - katib-db/0' | grep root_password\" | awk '{print $2}')\n",
    "KATIB_DB_IP=$(juju show-unit katib-db/0 | yq '.[] | .address')\n",
    "\n",
    "# ensure that there are no new connections are made and that dababase is not altered\n",
    "# remove relation between katib-db-manager charm and MariaDB charm\n",
    "juju remove-relation katib-db-manager katib-db\n",
    "\n",
    "# connect to unit's IP address using mysql client and verify that all data is intact\n",
    "mysql --host=$KATIB_DB_IP --user=$KATIB_DB_USER --password=$KATIB_DB_PASSWORD\n",
    "\n",
    "# create backup of all databases file using `mysqldump` utility, username, password, and unit's IP address\n",
    "# onbtained earlier\n",
    "mysqldump --host=$KATIB_DB_IP --user=$KATIB_DB_USER --password=$KATIB_DB_PASSWORD --column-statistics=0 --databases katib  > katib-db.sql\n",
    "\n",
    "# deploy new MySQL database charm\n",
    "juju deploy mysql-k8s katib-db-mysql --channel 8.0/stable --trust\n",
    "\n",
    "# obtain username and password of new MySQL database from DB relation\n",
    "# note that since relation is not yet established it is impossible to retrieve this information from that relation\n",
    "# the relation can only be established after data is retored into new database\n",
    "MYSQL_DB_USER=$(juju run-action katib-db-mysql/0 get-password --wait | yq '.[] | .results.username')\n",
    "MYSQL_DB_PASSWORD=$(juju run-action katib-db-mysql/0 get-password --wait | yq '.[] | .results.password')\n",
    "MYSQL_DB_IP=$(juju show-unit katib-db/0 | yq '.[] | .address')\n",
    "\n",
    "# connect to new DB using username, password, and unit's IP address and restore database from backup\n",
    "mysql --host=$MYSQL_DB_IP --user=$MYSQL_DB_USER --password=$MYSQL_DB_PASSWORD < katib-db.sql\n",
    "\n",
    "# relate katib-db-manager and new MySQL database charm\n",
    "juju relate katib-db-manager:relational-db katib-db-mysql:database"
   ]
  },
  {
   "cell_type": "markdown",
   "metadata": {},
   "source": [
    "## KFP DB migration"
   ]
  },
  {
   "cell_type": "code",
   "execution_count": null,
   "metadata": {
    "vscode": {
     "languageId": "shellscript"
    }
   },
   "outputs": [],
   "source": [
    "# obtain username and password of existing MariadDB database from DB relation\n",
    "# in Charmed Kubeflow 1.6 and 1.7 username used is `root` and password is specified in `mysql` relation by\n",
    "# 'root_password'\n",
    "KFP_DB_MYSQL_RELATION_ID=$(juju show-unit kfp-db/0 | yq '.[] | .relation-info | select(.[].endpoint == \"mysql\") | .[0] | .relation-id')\n",
    "KFP_DB_USER=root\n",
    "KFP_DB_PASSWORD=$(bash -c \"juju run --unit kfp-db/0 'relation-get -r $KFP_DB_MYSQL_RELATION_ID - kfp-db/0' | grep root_password\" | awk '{print $2}')\n",
    "KFP_DB_IP=$(juju show-unit kfp-db/0 | yq '.[] | .address')\n",
    "\n",
    "# ensure that there are no new connections are made and that dababase is not altered\n",
    "# remove relation between kfp-api charm and MariaDB charm\n",
    "juju remove-relation kfp-api kfp-db\n",
    "\n",
    "# connect to unit's IP address using mysql client and verify that all data is intact\n",
    "mysql --host=$KFP_DB_IP --user=$KFP_DB_USER --password=$KFP_DB_PASSWORD\n",
    "\n",
    "# create backup of all databases file using `mysqldump` utility, username, password, and unit's IP address\n",
    "# onbtained earlier\n",
    "mysqldump --host=$KFP_DB_IP --user=$KFP_DB_USER --password=$KFP_DB_PASSWORD --column-statistics=0 --databases mlpipeline  > kfp-db.sql\n",
    "\n",
    "# deploy new MySQL database charm\n",
    "juju deploy mysql-k8s kfp-db-mysql --channel 8.0/stable --trust\n",
    "\n",
    "# obtain username and password of new MySQL database from DB relation\n",
    "# note that since relation is not yet established it is impossible to retrieve this information from that relation\n",
    "# the relation can only be established after data is retored into new database\n",
    "MYSQL_DB_USER=$(juju run-action kfp-db-mysql/0 get-password --wait | yq '.[] | .results.username')\n",
    "MYSQL_DB_PASSWORD=$(juju run-action kfp-db-mysql/0 get-password --wait | yq '.[] | .results.password')\n",
    "MYSQL_DB_IP=$(juju show-unit kfp-db-mysql/0 | yq '.[] | .address')\n",
    "\n",
    "# connect to new DB using username, password, and unit's IP address and restore database from backup\n",
    "mysql --host=$MYSQL_DB_IP --user=$MYSQL_DB_USER --password=$MYSQL_DB_PASSWORD < kfp-db.sql\n",
    "\n",
    "# relate kfp-api and new MySQL database charm\n",
    "juju relate kfp-api:relational-db kfp-db-mysql:database"
   ]
  }
 ],
 "metadata": {
  "language_info": {
   "name": "python"
  },
  "orig_nbformat": 4
 },
 "nbformat": 4,
 "nbformat_minor": 2
}
