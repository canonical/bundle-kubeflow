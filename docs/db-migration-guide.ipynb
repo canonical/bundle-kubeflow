{
 "cells": [
  {
   "cell_type": "markdown",
   "metadata": {},
   "source": [
    "# Charmed Kubeflow Databases Migration Guide\n",
    "\n",
    " When upgrading to Charmed Kubeflow 1.8 these databases must be migrated to MySQL. There are two databases in Charmed Kubeflow - `katib-db` and `kfp-db`. In Charmed Kubeflow 1.7 these databases are backed by `charmed-osm-mariadb-k8s` charm. In the same release (1.7) we introduced support for MySQL databases, which can be deployed using the `mysql-k8s` charm. In Charmed Kubeflow 1.8 release MariaDB is not supported. Databases must be migrated prior to upgrading to Charmed Kubeflow 1.8."
   ]
  },
  {
   "cell_type": "markdown",
   "metadata": {},
   "source": [
    "## Prerequisites\n",
    "\n",
    "- Client machine with access to deployed Charmed Kubeflow 1.7.\n",
    "- Juju version is 2.9.\n",
    "- A database migration is required if the output of the following command is `mariadb-k8s`:"
   ]
  },
  {
   "cell_type": "code",
   "execution_count": null,
   "metadata": {
    "vscode": {
     "languageId": "shellscript"
    }
   },
   "outputs": [],
   "source": [
    "    # replace DB_CHARM with desired unit name: `katib-db` or `kfp-db`\n",
    "    DB_CHARM= <kfp-db | katib-db>\n",
    "    juju show-application $DB_CHARM | yq '.[] | .charm'"
   ]
  },
  {
   "cell_type": "markdown",
   "metadata": {},
   "source": [
    "\n",
    "- Enough storage in the cluster to support backup/restore of the databases.\n",
    "- `mysql-client` on client machine (install by running `sudo apt install mysql-client`)"
   ]
  },
  {
   "cell_type": "markdown",
   "metadata": {},
   "source": [
    "## Obtain existing database credentials\n",
    "\n",
    "To obtain database credential execute the following commands for each database to be migrated and use those credentials in migration steps."
   ]
  },
  {
   "cell_type": "code",
   "execution_count": null,
   "metadata": {
    "vscode": {
     "languageId": "shellscript"
    }
   },
   "outputs": [],
   "source": [
    "# replace DB_UNIT with desired unit name: `katib-db/0` or `kfp-db/0`\n",
    "DB_UNIT= <katib-db/0 | kfp-db/0>\n",
    "\n",
    "# obtain username and password of existing MariadDB database from DB relation\n",
    "# in Charmed Kubeflow 1.7 username used is `root` and password is specified in `mysql` relation by\n",
    "# 'root_password'\n",
    "DB_MYSQL_RELATION_ID=$(juju show-unit $DB_UNIT | yq '.[] | .relation-info | select(.[].endpoint == \"mysql\") | .[0] | .relation-id')\n",
    "DB_USER=root\n",
    "DB_PASSWORD=$(bash -c \"juju run --unit $DB_UNIT 'relation-get -r $DB_MYSQL_RELATION_ID - $DB_UNIT' | grep root_password\" | awk '{print $2}')\n",
    "DB_IP=$(juju show-unit $DB_UNIT/0 | yq '.[] | .address')"
   ]
  },
  {
   "cell_type": "markdown",
   "metadata": {},
   "source": [
    "## Deploy MySQL databases\n",
    "\n",
    "Deploy new MySQL database and obtain credentials by executing the following commands:"
   ]
  },
  {
   "cell_type": "code",
   "execution_count": null,
   "metadata": {
    "vscode": {
     "languageId": "shellscript"
    }
   },
   "outputs": [],
   "source": [
    "# replace MYSQL_DB with desired application name: `katib-db-mysql` or `kfp-db-mysql`\n",
    "MYSQL_DB= <katib-db-mysql/0 | kfp-db-mysql/0>\n",
    "\n",
    "# deploy new MySQL database charm\n",
    "juju deploy mysql-k8s $MYSQL_DB --channel 8.0/stable --trust\n",
    "\n",
    "# obtain username and password of new MySQL database from MySQL charm\n",
    "MYSQL_DB_USER=$(juju run-action $MYSQL_DB get-password --wait | yq '.[] | .results.username')\n",
    "MYSQL_DB_PASSWORD=$(juju run-action $MYSQL_DB get-password --wait | yq '.[] | .results.password')\n",
    "MYSQL_DB_IP=$(juju show-unit $MYSQL_DB | yq '.[] | .address')\n"
   ]
  },
  {
   "cell_type": "markdown",
   "metadata": {},
   "source": [
    "## Katib DB migration\n",
    "\n",
    "Use credentials and information obtained in previous steps for `katib-db` to perform database migration by executing the following commands:"
   ]
  },
  {
   "cell_type": "code",
   "execution_count": null,
   "metadata": {
    "vscode": {
     "languageId": "shellscript"
    }
   },
   "outputs": [],
   "source": [
    "# ensure that there are no new connections are made and that dababase is not altered\n",
    "# remove relation between katib-db-manager charm and katib-db charm\n",
    "juju remove-relation katib-db-manager katib-db\n",
    "\n",
    "# connect to unit's IP address using mysql client and verify that `katib` database exists\n",
    "# this command will log you into mysql monitor prompt\n",
    "mysql --host=$DB_IP --user=$DB_USER --password=$DB_PASSWORD\n",
    "\n",
    "# exit mysql client session\n",
    "\n",
    "# create backup of all databases file using `mysqldump` utility, username, password, and unit's IP address\n",
    "# onbtained earlier\n",
    "mysqldump --host=$DB_IP --user=$DB_USER --password=$DB_PASSWORD --column-statistics=0 --databases katib  > katib-db.sql\n",
    "\n",
    "# connect to new DB using username, password, and unit's IP address and restore database from backup\n",
    "mysql --host=$MYSQL_DB_IP --user=$MYSQL_DB_USER --password=$MYSQL_DB_PASSWORD < katib-db.sql\n",
    "\n",
    "# relate katib-db-manager and new MySQL database charm\n",
    "juju relate katib-db-manager:relational-db $MYSQL_DB:database"
   ]
  },
  {
   "cell_type": "markdown",
   "metadata": {},
   "source": [
    "## KFP DB migration\n",
    "\n",
    "Use credentials and information obtained in previous steps for `kfp-db` to perform database migration by executing the following commands:"
   ]
  },
  {
   "cell_type": "code",
   "execution_count": null,
   "metadata": {
    "vscode": {
     "languageId": "shellscript"
    }
   },
   "outputs": [],
   "source": [
    "# ensure that there are no new connections are made and that dababase is not altered\n",
    "# remove relation between kfp-api charm and kfp-db charm\n",
    "juju remove-relation kfp-api kfp-db\n",
    "\n",
    "# connect to unit's IP address using mysql client and verify that `mlpipeline` database exists\n",
    "# this command will log you into mysql monitor prompt\n",
    "mysql --host=$DB_IP --user=$DB_USER --password=$DB_PASSWORD\n",
    "\n",
    "# exit mysql client session\n",
    "\n",
    "# create backup of all databases file using `mysqldump` utility, username, password, and unit's IP address\n",
    "# onbtained earlier\n",
    "mysqldump --host=$DB_IP --user=$DB_USER --password=$DB_PASSWORD --column-statistics=0 --databases mlpipeline  > kfp-db.sql\n",
    "\n",
    "# connect to new DB using username, password, and unit's IP address and restore database from backup\n",
    "mysql --host=$MYSQL_DB_IP --user=$MYSQL_DB_USER --password=$MYSQL_DB_PASSWORD < kfp-db.sql\n",
    "\n",
    "# relate kfp-api and new MySQL database charm\n",
    "juju relate kfp-api:relational-db $MYSQL_DB:database"
   ]
  },
  {
   "cell_type": "markdown",
   "metadata": {},
   "source": [
    "## Verify DB migration"
   ]
  },
  {
   "cell_type": "code",
   "execution_count": null,
   "metadata": {
    "vscode": {
     "languageId": "shellscript"
    }
   },
   "outputs": [],
   "source": [
    "# compare new MySQL database and compare it to the backup created earlier\n",
    "mysqldump --host=$DB_IP --user=$DB_USER --password=$DB_PASSWORD --column-statistics=0 --databases katib  > katib-db-new.sql\n",
    "diff katib-db.sql katib-db-new.sql\n",
    "mysqldump --host=$DB_IP --user=$DB_USER --password=$DB_PASSWORD --column-statistics=0 --databases mlpipeline  > kfp-db-new.sql\n",
    "diff kfp-db.sql kfp-db-new.sql"
   ]
  },
  {
   "cell_type": "markdown",
   "metadata": {},
   "source": [
    "## Remove old databases"
   ]
  },
  {
   "cell_type": "code",
   "execution_count": null,
   "metadata": {
    "vscode": {
     "languageId": "shellscript"
    }
   },
   "outputs": [],
   "source": [
    "juju remove-application --destroy-storage katib-db kfp-db "
   ]
  }
 ],
 "metadata": {
  "language_info": {
   "name": "python"
  },
  "orig_nbformat": 4
 },
 "nbformat": 4,
 "nbformat_minor": 2
}
