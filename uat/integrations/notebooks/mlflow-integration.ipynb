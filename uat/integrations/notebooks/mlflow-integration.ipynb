{
 "cells": [
  {
   "cell_type": "markdown",
   "id": "c6894075-6c1d-462a-a715-51746ef066d6",
   "metadata": {},
   "source": [
    "# Test MLFlow Integration\n",
    "\n",
    "- start experiment \n",
    "- train model\n",
    "- save metrics\n",
    "- save artifact"
   ]
  },
  {
   "cell_type": "code",
   "execution_count": 1,
   "id": "opening-plate",
   "metadata": {
    "tags": []
   },
   "outputs": [],
   "source": [
    "!pip install minio mlflow==2.1.1 boto3 tenacity -q"
   ]
  },
  {
   "cell_type": "code",
   "execution_count": 2,
   "id": "built-jacksonville",
   "metadata": {},
   "outputs": [],
   "source": [
    "import os\n",
    "import warnings\n",
    "\n",
    "import pandas as pd\n",
    "import mlflow\n",
    "import numpy as np\n",
    "\n",
    "from minio import Minio\n",
    "from minio.error import BucketAlreadyOwnedByYou\n",
    "from mlflow.models.signature import infer_signature\n",
    "from sklearn.metrics import mean_squared_error, mean_absolute_error, r2_score\n",
    "from sklearn.model_selection import train_test_split\n",
    "from sklearn.linear_model import ElasticNet\n",
    "from tenacity import retry, stop_after_attempt, wait_exponential\n",
    "\n",
    "# suppress warnings\n",
    "warnings.filterwarnings(\"ignore\")"
   ]
  },
  {
   "cell_type": "code",
   "execution_count": 3,
   "id": "08f9a28d-5399-438b-98c2-c4665d9d8ea8",
   "metadata": {},
   "outputs": [
    {
     "data": {
      "text/html": [
       "<div>\n",
       "<style scoped>\n",
       "    .dataframe tbody tr th:only-of-type {\n",
       "        vertical-align: middle;\n",
       "    }\n",
       "\n",
       "    .dataframe tbody tr th {\n",
       "        vertical-align: top;\n",
       "    }\n",
       "\n",
       "    .dataframe thead th {\n",
       "        text-align: right;\n",
       "    }\n",
       "</style>\n",
       "<table border=\"1\" class=\"dataframe\">\n",
       "  <thead>\n",
       "    <tr style=\"text-align: right;\">\n",
       "      <th></th>\n",
       "      <th>fixed acidity</th>\n",
       "      <th>volatile acidity</th>\n",
       "      <th>citric acid</th>\n",
       "      <th>residual sugar</th>\n",
       "      <th>chlorides</th>\n",
       "      <th>free sulfur dioxide</th>\n",
       "      <th>total sulfur dioxide</th>\n",
       "      <th>density</th>\n",
       "      <th>pH</th>\n",
       "      <th>sulphates</th>\n",
       "      <th>alcohol</th>\n",
       "      <th>quality</th>\n",
       "    </tr>\n",
       "  </thead>\n",
       "  <tbody>\n",
       "    <tr>\n",
       "      <th>0</th>\n",
       "      <td>7.4</td>\n",
       "      <td>0.70</td>\n",
       "      <td>0.00</td>\n",
       "      <td>1.9</td>\n",
       "      <td>0.076</td>\n",
       "      <td>11.0</td>\n",
       "      <td>34.0</td>\n",
       "      <td>0.9978</td>\n",
       "      <td>3.51</td>\n",
       "      <td>0.56</td>\n",
       "      <td>9.4</td>\n",
       "      <td>5</td>\n",
       "    </tr>\n",
       "    <tr>\n",
       "      <th>1</th>\n",
       "      <td>7.8</td>\n",
       "      <td>0.88</td>\n",
       "      <td>0.00</td>\n",
       "      <td>2.6</td>\n",
       "      <td>0.098</td>\n",
       "      <td>25.0</td>\n",
       "      <td>67.0</td>\n",
       "      <td>0.9968</td>\n",
       "      <td>3.20</td>\n",
       "      <td>0.68</td>\n",
       "      <td>9.8</td>\n",
       "      <td>5</td>\n",
       "    </tr>\n",
       "    <tr>\n",
       "      <th>2</th>\n",
       "      <td>7.8</td>\n",
       "      <td>0.76</td>\n",
       "      <td>0.04</td>\n",
       "      <td>2.3</td>\n",
       "      <td>0.092</td>\n",
       "      <td>15.0</td>\n",
       "      <td>54.0</td>\n",
       "      <td>0.9970</td>\n",
       "      <td>3.26</td>\n",
       "      <td>0.65</td>\n",
       "      <td>9.8</td>\n",
       "      <td>5</td>\n",
       "    </tr>\n",
       "    <tr>\n",
       "      <th>3</th>\n",
       "      <td>11.2</td>\n",
       "      <td>0.28</td>\n",
       "      <td>0.56</td>\n",
       "      <td>1.9</td>\n",
       "      <td>0.075</td>\n",
       "      <td>17.0</td>\n",
       "      <td>60.0</td>\n",
       "      <td>0.9980</td>\n",
       "      <td>3.16</td>\n",
       "      <td>0.58</td>\n",
       "      <td>9.8</td>\n",
       "      <td>6</td>\n",
       "    </tr>\n",
       "    <tr>\n",
       "      <th>4</th>\n",
       "      <td>7.4</td>\n",
       "      <td>0.70</td>\n",
       "      <td>0.00</td>\n",
       "      <td>1.9</td>\n",
       "      <td>0.076</td>\n",
       "      <td>11.0</td>\n",
       "      <td>34.0</td>\n",
       "      <td>0.9978</td>\n",
       "      <td>3.51</td>\n",
       "      <td>0.56</td>\n",
       "      <td>9.4</td>\n",
       "      <td>5</td>\n",
       "    </tr>\n",
       "  </tbody>\n",
       "</table>\n",
       "</div>"
      ],
      "text/plain": [
       "   fixed acidity  volatile acidity  citric acid  residual sugar  chlorides  \\\n",
       "0            7.4              0.70         0.00             1.9      0.076   \n",
       "1            7.8              0.88         0.00             2.6      0.098   \n",
       "2            7.8              0.76         0.04             2.3      0.092   \n",
       "3           11.2              0.28         0.56             1.9      0.075   \n",
       "4            7.4              0.70         0.00             1.9      0.076   \n",
       "\n",
       "   free sulfur dioxide  total sulfur dioxide  density    pH  sulphates  \\\n",
       "0                 11.0                  34.0   0.9978  3.51       0.56   \n",
       "1                 25.0                  67.0   0.9968  3.20       0.68   \n",
       "2                 15.0                  54.0   0.9970  3.26       0.65   \n",
       "3                 17.0                  60.0   0.9980  3.16       0.58   \n",
       "4                 11.0                  34.0   0.9978  3.51       0.56   \n",
       "\n",
       "   alcohol  quality  \n",
       "0      9.4        5  \n",
       "1      9.8        5  \n",
       "2      9.8        5  \n",
       "3      9.8        6  \n",
       "4      9.4        5  "
      ]
     },
     "execution_count": 3,
     "metadata": {},
     "output_type": "execute_result"
    }
   ],
   "source": [
    "data = pd.read_csv(\"http://archive.ics.uci.edu/ml/machine-learning-databases/wine-quality/winequality-red.csv\", sep=\";\")\n",
    "data.head()"
   ]
  },
  {
   "cell_type": "code",
   "execution_count": 4,
   "id": "3a2511a7-1f49-4e6d-ad5f-aaf94f2ec23d",
   "metadata": {},
   "outputs": [
    {
     "data": {
      "text/plain": [
       "(1599, 12)"
      ]
     },
     "execution_count": 4,
     "metadata": {},
     "output_type": "execute_result"
    }
   ],
   "source": [
    "data.shape"
   ]
  },
  {
   "cell_type": "code",
   "execution_count": 5,
   "id": "thick-begin",
   "metadata": {},
   "outputs": [],
   "source": [
    "TARGET_COLUMN = \"quality\"\n",
    "train, test = train_test_split(data)\n",
    "\n",
    "train_x = train.drop([TARGET_COLUMN], axis=1)\n",
    "test_x = test.drop([TARGET_COLUMN], axis=1)\n",
    "train_y = train[[TARGET_COLUMN]]\n",
    "test_y = test[[TARGET_COLUMN]]"
   ]
  },
  {
   "cell_type": "code",
   "execution_count": 6,
   "id": "e67bb23d-65e1-4b65-93e3-8c5aec7a9b7a",
   "metadata": {},
   "outputs": [],
   "source": [
    "MINIO_HOST = os.environ[\"MINIO_ENDPOINT_URL\"].split(\"http://\")[1]\n",
    "MINIO_BUCKET = \"mlflow\""
   ]
  },
  {
   "cell_type": "code",
   "execution_count": 7,
   "id": "cfa5af5f-f2fe-4b21-839d-384073a8aefe",
   "metadata": {},
   "outputs": [
    {
     "name": "stdout",
     "output_type": "stream",
     "text": [
      "Bucket mlflow already exists!\n"
     ]
    }
   ],
   "source": [
    "# Initialize a MinIO client\n",
    "mc = Minio(\n",
    "    endpoint=MINIO_HOST,\n",
    "    access_key=os.environ[\"AWS_ACCESS_KEY_ID\"],\n",
    "    secret_key=os.environ[\"AWS_SECRET_ACCESS_KEY\"],\n",
    "    secure=False,\n",
    ")\n",
    "\n",
    "try:\n",
    "    mc.make_bucket(MINIO_BUCKET)\n",
    "except BucketAlreadyOwnedByYou:\n",
    "    print(f\"Bucket {MINIO_BUCKET} already exists!\")"
   ]
  },
  {
   "cell_type": "code",
   "execution_count": 8,
   "id": "f99648d1-080b-4fc0-9627-14959eef3630",
   "metadata": {},
   "outputs": [],
   "source": [
    "wine_experiment_name = \"My Wine Experiment\"\n",
    "experiment = mlflow.get_experiment_by_name(wine_experiment_name)\n",
    "experiment_id = (\n",
    "    mlflow.create_experiment(name=wine_experiment_name)\n",
    "    if experiment is None\n",
    "    else experiment.experiment_id\n",
    ")"
   ]
  },
  {
   "cell_type": "code",
   "execution_count": 9,
   "id": "e6fe6371-2439-48c0-bdcf-cbf1fc20e164",
   "metadata": {
    "tags": [
     "raises-exception"
    ]
   },
   "outputs": [],
   "source": [
    "# check that the experiment was created successfully\n",
    "assert mlflow.get_experiment(experiment_id).name == wine_experiment_name, f\"Failed to create experiment {wine_experiment_name}!\""
   ]
  },
  {
   "cell_type": "code",
   "execution_count": 10,
   "id": "c3d74d1e-5f79-4cd0-8b8d-6b8afa0d8e97",
   "metadata": {},
   "outputs": [],
   "source": [
    "def experiment(alpha, l1_ratio):\n",
    "    mlflow.sklearn.autolog()\n",
    "    with mlflow.start_run(run_name='wine_models', experiment_id=experiment_id) as run:\n",
    "            mlflow.set_tag(\"author\", \"kf-testing\")\n",
    "            lr = ElasticNet(alpha=alpha, l1_ratio=l1_ratio, random_state=42)\n",
    "            lr.fit(train_x, train_y)\n",
    "\n",
    "            pred_y = lr.predict(test_x)\n",
    "            mlflow.log_metric(\"rmse\", np.sqrt(mean_squared_error(test_y, pred_y)))\n",
    "            mlflow.log_metric(\"r2\", r2_score(test_y, pred_y))\n",
    "            mlflow.log_metric(\"mae\", mean_absolute_error(test_y, pred_y))\n",
    "\n",
    "            signature = infer_signature(test_x, pred_y)\n",
    "            mlflow.sklearn.log_model(lr, \"model\", registered_model_name=\"wine-elasticnet\", signature=signature)\n",
    "    \n",
    "    return run"
   ]
  },
  {
   "cell_type": "code",
   "execution_count": 11,
   "id": "a4295ea1-93fb-4100-acac-9191010caddc",
   "metadata": {},
   "outputs": [
    {
     "name": "stderr",
     "output_type": "stream",
     "text": [
      "Registered model 'wine-elasticnet' already exists. Creating a new version of this model...\n",
      "2023/07/06 08:39:06 INFO mlflow.tracking._model_registry.client: Waiting up to 300 seconds for model version to finish creation.                     Model name: wine-elasticnet, version 7\n",
      "Created version '7' of model 'wine-elasticnet'.\n",
      "Registered model 'wine-elasticnet' already exists. Creating a new version of this model...\n",
      "2023/07/06 08:39:14 INFO mlflow.tracking._model_registry.client: Waiting up to 300 seconds for model version to finish creation.                     Model name: wine-elasticnet, version 8\n",
      "Created version '8' of model 'wine-elasticnet'.\n",
      "Registered model 'wine-elasticnet' already exists. Creating a new version of this model...\n",
      "2023/07/06 08:39:25 INFO mlflow.tracking._model_registry.client: Waiting up to 300 seconds for model version to finish creation.                     Model name: wine-elasticnet, version 9\n",
      "Created version '9' of model 'wine-elasticnet'.\n"
     ]
    }
   ],
   "source": [
    "# run experiments\n",
    "runs = [\n",
    "    experiment(0.5, 0.5),\n",
    "    experiment(1, 0),\n",
    "    experiment(0, 1),\n",
    "]"
   ]
  },
  {
   "cell_type": "code",
   "execution_count": 12,
   "id": "01a262ec-6a1f-476b-b392-6d27425f920b",
   "metadata": {},
   "outputs": [],
   "source": [
    "@retry(\n",
    "    wait=wait_exponential(multiplier=2, min=1, max=10),\n",
    "    stop=stop_after_attempt(30),\n",
    "    reraise=True,\n",
    ")\n",
    "def assert_run_finished(client, run_id):\n",
    "    \"\"\"Wait for the run to complete successfully.\"\"\"\n",
    "    status = client.get_run(run_id).info.status\n",
    "    assert status == \"FINISHED\", f\"MLFlow run in {status} state.\"\n",
    "\n",
    "\n",
    "def assert_has_metrics(client, run_id, metrics):\n",
    "    \"\"\"Assert that the run contains the specified metrics.\"\"\"\n",
    "    run = client.get_run(run_id)\n",
    "    for m in metrics:\n",
    "        assert m in run.data.metrics, f\"Metric {m} not found in logged data!\"\n",
    "\n",
    "\n",
    "def assert_model(client, run_id):\n",
    "    \"\"\"Assert Model exists.\"\"\"\n",
    "    model = client.sklearn.load_model(f\"runs:/{run_id}/model\")\n",
    "    assert isinstance(model, ElasticNet), f\"Model {model} is not of type ElasticNet!\""
   ]
  },
  {
   "cell_type": "code",
   "execution_count": 13,
   "id": "1df491c5-0b99-4dd6-b41c-ad3198b39dd7",
   "metadata": {
    "tags": [
     "raises-exception"
    ]
   },
   "outputs": [],
   "source": [
    "METRICS = [\"rmse\", \"r2\", \"mae\"]\n",
    "\n",
    "for run in runs:\n",
    "    run_id = run.info.run_id\n",
    "    assert_run_finished(mlflow, run_id)\n",
    "    assert_has_metrics(mlflow, run_id, METRICS)\n",
    "    assert_model(mlflow, run_id)"
   ]
  }
 ],
 "metadata": {
  "kernelspec": {
   "display_name": "Python 3 (ipykernel)",
   "language": "python",
   "name": "python3"
  },
  "language_info": {
   "codemirror_mode": {
    "name": "ipython",
    "version": 3
   },
   "file_extension": ".py",
   "mimetype": "text/x-python",
   "name": "python",
   "nbconvert_exporter": "python",
   "pygments_lexer": "ipython3",
   "version": "3.8.10"
  }
 },
 "nbformat": 4,
 "nbformat_minor": 5
}
