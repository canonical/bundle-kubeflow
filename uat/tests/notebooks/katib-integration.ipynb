{
 "cells": [
  {
   "cell_type": "markdown",
   "metadata": {},
   "source": [
    "# Test Katib Integration\n",
    "\n",
    "This example notebook is loosely based on [this](https://github.com/kubeflow/katib/blob/master/examples/v1beta1/sdk/cmaes-and-resume-policies.ipynb) upstream example.\n",
    "\n",
    "- create Katib Experiment\n",
    "- monitor its execution\n",
    "- get optimal HyperParameters\n",
    "- get Trials\n",
    "- get Suggestion\n",
    "- delete Experiment"
   ]
  },
  {
   "cell_type": "markdown",
   "metadata": {},
   "source": [
    "## Setup"
   ]
  },
  {
   "cell_type": "code",
   "execution_count": 1,
   "metadata": {},
   "outputs": [],
   "source": [
    "!pip install kubeflow-katib tenacity -q"
   ]
  },
  {
   "cell_type": "markdown",
   "metadata": {},
   "source": [
    "### Import required packages"
   ]
  },
  {
   "cell_type": "code",
   "execution_count": 2,
   "metadata": {},
   "outputs": [],
   "source": [
    "from kubeflow.katib import (\n",
    "    KatibClient,\n",
    "    V1beta1AlgorithmSpec,\n",
    "    V1beta1Experiment,\n",
    "    V1beta1ExperimentSpec,\n",
    "    V1beta1FeasibleSpace,\n",
    "    V1beta1ObjectiveSpec,\n",
    "    V1beta1ParameterSpec,\n",
    "    V1beta1TrialTemplate,\n",
    "    V1beta1TrialParameterSpec,\n",
    ")\n",
    "from kubernetes.client import V1ObjectMeta\n",
    "\n",
    "from tenacity import retry, stop_after_attempt, wait_exponential"
   ]
  },
  {
   "cell_type": "markdown",
   "metadata": {},
   "source": [
    "### Initialise Katib Client\n",
    "\n",
    "We will be using the Katib SDK for any actions executed as part of this example."
   ]
  },
  {
   "cell_type": "code",
   "execution_count": 3,
   "metadata": {},
   "outputs": [],
   "source": [
    "client = KatibClient()"
   ]
  },
  {
   "cell_type": "markdown",
   "metadata": {},
   "source": [
    "## Define a Katib Experiment\n",
    "\n",
    "Define a Katib Experiment object before deploying it. This Experiment is similar to [this](https://github.com/kubeflow/katib/blob/master/examples/v1beta1/hp-tuning/cma-es.yaml) example."
   ]
  },
  {
   "cell_type": "code",
   "execution_count": 4,
   "metadata": {},
   "outputs": [],
   "source": [
    "EXPERIMENT_NAME = \"cmaes-example\""
   ]
  },
  {
   "cell_type": "code",
   "execution_count": 5,
   "metadata": {},
   "outputs": [],
   "source": [
    "metadata = V1ObjectMeta(\n",
    "    name=EXPERIMENT_NAME,\n",
    ")\n",
    "\n",
    "algorithm_spec=V1beta1AlgorithmSpec(\n",
    "    algorithm_name=\"cmaes\"\n",
    ")\n",
    "\n",
    "objective_spec=V1beta1ObjectiveSpec(\n",
    "    type=\"maximize\",\n",
    "    goal= 0.99,\n",
    "    objective_metric_name=\"Validation-accuracy\",\n",
    "    additional_metric_names=[\"Train-accuracy\"]\n",
    ")\n",
    "\n",
    "# experiment search space\n",
    "# in this example we tune learning rate, number of layer, and optimizer\n",
    "parameters=[\n",
    "    V1beta1ParameterSpec(\n",
    "        name=\"lr\",\n",
    "        parameter_type=\"double\",\n",
    "        feasible_space=V1beta1FeasibleSpace(\n",
    "            min=\"0.01\",\n",
    "            max=\"0.06\"\n",
    "        ),\n",
    "    ),\n",
    "    V1beta1ParameterSpec(\n",
    "        name=\"num-layers\",\n",
    "        parameter_type=\"int\",\n",
    "        feasible_space=V1beta1FeasibleSpace(\n",
    "            min=\"2\",\n",
    "            max=\"5\"\n",
    "        ),\n",
    "    ),\n",
    "    V1beta1ParameterSpec(\n",
    "        name=\"optimizer\",\n",
    "        parameter_type=\"categorical\",\n",
    "        feasible_space=V1beta1FeasibleSpace(\n",
    "            list=[\"sgd\", \"adam\", \"ftrl\"]\n",
    "        ),\n",
    "    ),\n",
    "]\n",
    "\n",
    "# JSON template specification for the Trial's Worker Kubernetes Job\n",
    "trial_spec={\n",
    "    \"apiVersion\": \"batch/v1\",\n",
    "    \"kind\": \"Job\",\n",
    "    \"spec\": {\n",
    "        \"template\": {\n",
    "            \"metadata\": {\n",
    "                \"annotations\": {\n",
    "                    \"sidecar.istio.io/inject\": \"false\"\n",
    "                }\n",
    "            },\n",
    "            \"spec\": {\n",
    "                \"containers\": [\n",
    "                    {\n",
    "                        \"name\": \"training-container\",\n",
    "                        \"image\": \"docker.io/kubeflowkatib/mxnet-mnist:v0.14.0\",\n",
    "                        \"command\": [\n",
    "                            \"python3\",\n",
    "                            \"/opt/mxnet-mnist/mnist.py\",\n",
    "                            \"--batch-size=64\",\n",
    "                            \"--num-epochs=1\",\n",
    "                            \"--lr=${trialParameters.learningRate}\",\n",
    "                            \"--num-layers=${trialParameters.numberLayers}\",\n",
    "                            \"--optimizer=${trialParameters.optimizer}\"\n",
    "                        ]\n",
    "                    }\n",
    "                ],\n",
    "                \"restartPolicy\": \"Never\"\n",
    "            }\n",
    "        }\n",
    "    }\n",
    "}\n",
    "\n",
    "trial_template=V1beta1TrialTemplate(\n",
    "    primary_container_name=\"training-container\",\n",
    "    trial_parameters=[\n",
    "        V1beta1TrialParameterSpec(\n",
    "            name=\"learningRate\",\n",
    "            description=\"Learning rate for the training model\",\n",
    "            reference=\"lr\"\n",
    "        ),\n",
    "        V1beta1TrialParameterSpec(\n",
    "            name=\"numberLayers\",\n",
    "            description=\"Number of training model layers\",\n",
    "            reference=\"num-layers\"\n",
    "        ),\n",
    "        V1beta1TrialParameterSpec(\n",
    "            name=\"optimizer\",\n",
    "            description=\"Training model optimizer (sdg, adam or ftrl)\",\n",
    "            reference=\"optimizer\"\n",
    "        ),\n",
    "    ],\n",
    "    trial_spec=trial_spec\n",
    ")\n",
    "\n",
    "experiment = V1beta1Experiment(\n",
    "    api_version=\"kubeflow.org/v1beta1\",\n",
    "    kind=\"Experiment\",\n",
    "    metadata=metadata,\n",
    "    spec=V1beta1ExperimentSpec(\n",
    "        max_trial_count=3,\n",
    "        parallel_trial_count=2,\n",
    "        max_failed_trial_count=1,\n",
    "        algorithm=algorithm_spec,\n",
    "        objective=objective_spec,\n",
    "        parameters=parameters,\n",
    "        trial_template=trial_template,\n",
    "    )\n",
    ")"
   ]
  },
  {
   "cell_type": "markdown",
   "metadata": {},
   "source": [
    "Print the Experiment's info to verify it before submission."
   ]
  },
  {
   "cell_type": "code",
   "execution_count": 6,
   "metadata": {
    "scrolled": true
   },
   "outputs": [
    {
     "name": "stdout",
     "output_type": "stream",
     "text": [
      "Name: cmaes-example\n",
      "Algorithm: cmaes\n",
      "Objective: Validation-accuracy\n",
      "Trial Parameters:\n",
      "- learningRate: Learning rate for the training model\n",
      "- numberLayers: Number of training model layers\n",
      "- optimizer: Training model optimizer (sdg, adam or ftrl)\n",
      "Max Trial Count: 3\n",
      "Max Failed Trial Count: 1\n",
      "Parallel Trial Count: 2\n"
     ]
    }
   ],
   "source": [
    "print(\"Name:\", experiment.metadata.name)\n",
    "print(\"Algorithm:\", experiment.spec.algorithm.algorithm_name)\n",
    "print(\"Objective:\", experiment.spec.objective.objective_metric_name)\n",
    "print(\"Trial Parameters:\")\n",
    "for param in experiment.spec.trial_template.trial_parameters:\n",
    "    print(f\"- {param.name}: {param.description}\")\n",
    "print(\"Max Trial Count:\", experiment.spec.max_trial_count)\n",
    "print(\"Max Failed Trial Count:\", experiment.spec.max_failed_trial_count)\n",
    "print(\"Parallel Trial Count:\", experiment.spec.parallel_trial_count)"
   ]
  },
  {
   "cell_type": "markdown",
   "metadata": {},
   "source": [
    "## List existing Katib Experiments\n",
    "\n",
    "List Katib Experiments in the current namespace."
   ]
  },
  {
   "cell_type": "code",
   "execution_count": 7,
   "metadata": {},
   "outputs": [
    {
     "data": {
      "text/plain": [
       "[]"
      ]
     },
     "execution_count": 7,
     "metadata": {},
     "output_type": "execute_result"
    }
   ],
   "source": [
    "[exp.metadata.name for exp in client.list_experiments()]"
   ]
  },
  {
   "cell_type": "markdown",
   "metadata": {},
   "source": [
    "## Create Katib Experiment\n",
    "\n",
    "Create a Katib Experiment using the SDK."
   ]
  },
  {
   "cell_type": "code",
   "execution_count": 8,
   "metadata": {},
   "outputs": [
    {
     "name": "stdout",
     "output_type": "stream",
     "text": [
      "Experiment test/cmaes-example has been created\n"
     ]
    },
    {
     "data": {
      "text/html": [
       "Katib Experiment cmaes-example link <a href=\"/_/katib/#/katib/hp_monitor/test/cmaes-example\" target=\"_blank\">here</a>"
      ],
      "text/plain": [
       "<IPython.core.display.HTML object>"
      ]
     },
     "metadata": {},
     "output_type": "display_data"
    }
   ],
   "source": [
    "client.create_experiment(experiment)"
   ]
  },
  {
   "cell_type": "markdown",
   "metadata": {},
   "source": [
    "## Get Katib Experiment\n",
    "\n",
    "Get the created Katib Experiment by name and check its data.  \n",
    "Make sure that it completes successfully before proceeding. "
   ]
  },
  {
   "cell_type": "code",
   "execution_count": 9,
   "metadata": {},
   "outputs": [],
   "source": [
    "@retry(\n",
    "    wait=wait_exponential(multiplier=2, min=1, max=10),\n",
    "    stop=stop_after_attempt(30),\n",
    "    reraise=True,\n",
    ")\n",
    "def assert_experiment_succeeded(client, experiment):\n",
    "    \"\"\"Wait for the Katib Experiment to complete successfully.\"\"\"\n",
    "    assert client.is_experiment_succeeded(name=experiment), f\"Katib Experiment was not successful.\""
   ]
  },
  {
   "cell_type": "code",
   "execution_count": 10,
   "metadata": {
    "tags": [
     "raises-exception"
    ]
   },
   "outputs": [],
   "source": [
    "# verify that the Experiment was created successfully\n",
    "# raises an error if it doesn't exist\n",
    "client.get_experiment(name=EXPERIMENT_NAME)\n",
    "\n",
    "# wait for the Experiment to complete successfully\n",
    "assert_experiment_succeeded(client, EXPERIMENT_NAME)"
   ]
  },
  {
   "cell_type": "code",
   "execution_count": 11,
   "metadata": {
    "scrolled": true
   },
   "outputs": [
    {
     "name": "stdout",
     "output_type": "stream",
     "text": [
      "Experiment: cmaes-example\n",
      "\n",
      "Experiment Spec:\n",
      "{'algorithm': {'algorithm_name': 'cmaes', 'algorithm_settings': None},\n",
      " 'early_stopping': None,\n",
      " 'max_failed_trial_count': 1,\n",
      " 'max_trial_count': 3,\n",
      " 'metrics_collector_spec': {'collector': {'custom_collector': None,\n",
      "                                          'kind': 'StdOut'},\n",
      "                            'source': None},\n",
      " 'nas_config': None,\n",
      " 'objective': {'additional_metric_names': ['Train-accuracy'],\n",
      "               'goal': 0.99,\n",
      "               'metric_strategies': [{'name': 'Validation-accuracy',\n",
      "                                      'value': 'max'},\n",
      "                                     {'name': 'Train-accuracy',\n",
      "                                      'value': 'max'}],\n",
      "               'objective_metric_name': 'Validation-accuracy',\n",
      "               'type': 'maximize'},\n",
      " 'parallel_trial_count': 2,\n",
      " 'parameters': [{'feasible_space': {'list': None,\n",
      "                                    'max': '0.06',\n",
      "                                    'min': '0.01',\n",
      "                                    'step': None},\n",
      "                 'name': 'lr',\n",
      "                 'parameter_type': 'double'},\n",
      "                {'feasible_space': {'list': None,\n",
      "                                    'max': '5',\n",
      "                                    'min': '2',\n",
      "                                    'step': None},\n",
      "                 'name': 'num-layers',\n",
      "                 'parameter_type': 'int'},\n",
      "                {'feasible_space': {'list': ['sgd', 'adam', 'ftrl'],\n",
      "                                    'max': None,\n",
      "                                    'min': None,\n",
      "                                    'step': None},\n",
      "                 'name': 'optimizer',\n",
      "                 'parameter_type': 'categorical'}],\n",
      " 'resume_policy': 'Never',\n",
      " 'trial_template': {'config_map': None,\n",
      "                    'failure_condition': 'status.conditions.#(type==\"Failed\")#|#(status==\"True\")#',\n",
      "                    'primary_container_name': 'training-container',\n",
      "                    'primary_pod_labels': None,\n",
      "                    'retain': None,\n",
      "                    'success_condition': 'status.conditions.#(type==\"Complete\")#|#(status==\"True\")#',\n",
      "                    'trial_parameters': [{'description': 'Learning rate for '\n",
      "                                                         'the training model',\n",
      "                                          'name': 'learningRate',\n",
      "                                          'reference': 'lr'},\n",
      "                                         {'description': 'Number of training '\n",
      "                                                         'model layers',\n",
      "                                          'name': 'numberLayers',\n",
      "                                          'reference': 'num-layers'},\n",
      "                                         {'description': 'Training model '\n",
      "                                                         'optimizer (sdg, adam '\n",
      "                                                         'or ftrl)',\n",
      "                                          'name': 'optimizer',\n",
      "                                          'reference': 'optimizer'}],\n",
      "                    'trial_spec': {'apiVersion': 'batch/v1',\n",
      "                                   'kind': 'Job',\n",
      "                                   'spec': {'template': {'metadata': {'annotations': {'sidecar.istio.io/inject': 'false'}},\n",
      "                                                         'spec': {'containers': [{'command': ['python3',\n",
      "                                                                                              '/opt/mxnet-mnist/mnist.py',\n",
      "                                                                                              '--batch-size=64',\n",
      "                                                                                              '--num-epochs=1',\n",
      "                                                                                              '--lr=${trialParameters.learningRate}',\n",
      "                                                                                              '--num-layers=${trialParameters.numberLayers}',\n",
      "                                                                                              '--optimizer=${trialParameters.optimizer}'],\n",
      "                                                                                  'image': 'docker.io/kubeflowkatib/mxnet-mnist:v0.14.0',\n",
      "                                                                                  'name': 'training-container'}],\n",
      "                                                                  'restartPolicy': 'Never'}}}}}}\n",
      "\n",
      "Experiment Status:\n",
      "{'completion_time': datetime.datetime(2023, 7, 28, 12, 21, 2, tzinfo=tzlocal()),\n",
      " 'conditions': [{'last_transition_time': datetime.datetime(2023, 7, 28, 12, 19, 37, tzinfo=tzlocal()),\n",
      "                 'last_update_time': datetime.datetime(2023, 7, 28, 12, 19, 37, tzinfo=tzlocal()),\n",
      "                 'message': 'Experiment is created',\n",
      "                 'reason': 'ExperimentCreated',\n",
      "                 'status': 'True',\n",
      "                 'type': 'Created'},\n",
      "                {'last_transition_time': datetime.datetime(2023, 7, 28, 12, 21, 2, tzinfo=tzlocal()),\n",
      "                 'last_update_time': datetime.datetime(2023, 7, 28, 12, 21, 2, tzinfo=tzlocal()),\n",
      "                 'message': 'Experiment is running',\n",
      "                 'reason': 'ExperimentRunning',\n",
      "                 'status': 'False',\n",
      "                 'type': 'Running'},\n",
      "                {'last_transition_time': datetime.datetime(2023, 7, 28, 12, 21, 2, tzinfo=tzlocal()),\n",
      "                 'last_update_time': datetime.datetime(2023, 7, 28, 12, 21, 2, tzinfo=tzlocal()),\n",
      "                 'message': 'Experiment has succeeded because max trial count '\n",
      "                            'has reached',\n",
      "                 'reason': 'ExperimentMaxTrialsReached',\n",
      "                 'status': 'True',\n",
      "                 'type': 'Succeeded'}],\n",
      " 'current_optimal_trial': {'best_trial_name': 'cmaes-example-sw6zbt45',\n",
      "                           'observation': {'metrics': [{'latest': '0.949940',\n",
      "                                                        'max': '0.949940',\n",
      "                                                        'min': '0.949940',\n",
      "                                                        'name': 'Validation-accuracy'},\n",
      "                                                       {'latest': '0.924324',\n",
      "                                                        'max': '0.924324',\n",
      "                                                        'min': '0.924324',\n",
      "                                                        'name': 'Train-accuracy'}]},\n",
      "                           'parameter_assignments': [{'name': 'optimizer',\n",
      "                                                      'value': 'sgd'},\n",
      "                                                     {'name': 'lr',\n",
      "                                                      'value': '0.04188612100654'},\n",
      "                                                     {'name': 'num-layers',\n",
      "                                                      'value': '4'}]},\n",
      " 'early_stopped_trial_list': None,\n",
      " 'failed_trial_list': None,\n",
      " 'killed_trial_list': None,\n",
      " 'last_reconcile_time': None,\n",
      " 'metrics_unavailable_trial_list': None,\n",
      " 'pending_trial_list': None,\n",
      " 'running_trial_list': None,\n",
      " 'start_time': datetime.datetime(2023, 7, 28, 12, 19, 37, tzinfo=tzlocal()),\n",
      " 'succeeded_trial_list': ['cmaes-example-sw6zbt45',\n",
      "                          'cmaes-example-vfc4ptmw',\n",
      "                          'cmaes-example-kjrnx4k2'],\n",
      " 'trial_metrics_unavailable': None,\n",
      " 'trials': 3,\n",
      " 'trials_early_stopped': None,\n",
      " 'trials_failed': None,\n",
      " 'trials_killed': None,\n",
      " 'trials_pending': None,\n",
      " 'trials_running': None,\n",
      " 'trials_succeeded': 3}\n",
      "\n"
     ]
    }
   ],
   "source": [
    "exp = client.get_experiment(name=EXPERIMENT_NAME)\n",
    "print(\"Experiment:\", exp.metadata.name, end=\"\\n\\n\")\n",
    "print(\"Experiment Spec:\", exp.spec, sep=\"\\n\", end=\"\\n\\n\")\n",
    "print(\"Experiment Status:\", exp.status, sep=\"\\n\", end=\"\\n\\n\")"
   ]
  },
  {
   "cell_type": "markdown",
   "metadata": {},
   "source": [
    "### Get Experiment conditions\n",
    "\n",
    "Check the current Experiment conditions and verify that the last one is \"Succeeded\"."
   ]
  },
  {
   "cell_type": "code",
   "execution_count": 12,
   "metadata": {},
   "outputs": [
    {
     "name": "stdout",
     "output_type": "stream",
     "text": [
      "[{'last_transition_time': datetime.datetime(2023, 7, 28, 12, 19, 37, tzinfo=tzlocal()),\n",
      " 'last_update_time': datetime.datetime(2023, 7, 28, 12, 19, 37, tzinfo=tzlocal()),\n",
      " 'message': 'Experiment is created',\n",
      " 'reason': 'ExperimentCreated',\n",
      " 'status': 'True',\n",
      " 'type': 'Created'}, {'last_transition_time': datetime.datetime(2023, 7, 28, 12, 21, 2, tzinfo=tzlocal()),\n",
      " 'last_update_time': datetime.datetime(2023, 7, 28, 12, 21, 2, tzinfo=tzlocal()),\n",
      " 'message': 'Experiment is running',\n",
      " 'reason': 'ExperimentRunning',\n",
      " 'status': 'False',\n",
      " 'type': 'Running'}, {'last_transition_time': datetime.datetime(2023, 7, 28, 12, 21, 2, tzinfo=tzlocal()),\n",
      " 'last_update_time': datetime.datetime(2023, 7, 28, 12, 21, 2, tzinfo=tzlocal()),\n",
      " 'message': 'Experiment has succeeded because max trial count has reached',\n",
      " 'reason': 'ExperimentMaxTrialsReached',\n",
      " 'status': 'True',\n",
      " 'type': 'Succeeded'}]\n"
     ]
    }
   ],
   "source": [
    "conditions = client.get_experiment_conditions(name=EXPERIMENT_NAME)\n",
    "print(conditions)"
   ]
  },
  {
   "cell_type": "code",
   "execution_count": 13,
   "metadata": {
    "tags": [
     "raises-exception"
    ]
   },
   "outputs": [],
   "source": [
    "assert conditions[-1].type == \"Succeeded\""
   ]
  },
  {
   "cell_type": "markdown",
   "metadata": {},
   "source": [
    "### Get the optimal HyperParameters\n",
    "\n",
    "Get the optimal HyperParameters at the end of the tuning Experiment.  \n",
    "Each metric comes with the max, min and latest value."
   ]
  },
  {
   "cell_type": "code",
   "execution_count": 14,
   "metadata": {},
   "outputs": [
    {
     "data": {
      "text/plain": [
       "{'best_trial_name': 'cmaes-example-sw6zbt45',\n",
       " 'observation': {'metrics': [{'latest': '0.949940',\n",
       "                              'max': '0.949940',\n",
       "                              'min': '0.949940',\n",
       "                              'name': 'Validation-accuracy'},\n",
       "                             {'latest': '0.924324',\n",
       "                              'max': '0.924324',\n",
       "                              'min': '0.924324',\n",
       "                              'name': 'Train-accuracy'}]},\n",
       " 'parameter_assignments': [{'name': 'optimizer', 'value': 'sgd'},\n",
       "                           {'name': 'lr', 'value': '0.04188612100654'},\n",
       "                           {'name': 'num-layers', 'value': '4'}]}"
      ]
     },
     "execution_count": 14,
     "metadata": {},
     "output_type": "execute_result"
    }
   ],
   "source": [
    "client.get_optimal_hyperparameters(name=EXPERIMENT_NAME)"
   ]
  },
  {
   "cell_type": "markdown",
   "metadata": {},
   "source": [
    "## List Katib Trials\n",
    "\n",
    "Get a list of the current Trials with the latest status."
   ]
  },
  {
   "cell_type": "code",
   "execution_count": 15,
   "metadata": {
    "scrolled": true
   },
   "outputs": [
    {
     "name": "stdout",
     "output_type": "stream",
     "text": [
      "Trial: cmaes-example-sw6zbt45\n",
      "Trial Status:\n",
      "{'last_transition_time': datetime.datetime(2023, 7, 28, 12, 20, 33, tzinfo=tzlocal()),\n",
      " 'last_update_time': datetime.datetime(2023, 7, 28, 12, 20, 33, tzinfo=tzlocal()),\n",
      " 'message': 'Trial has succeeded',\n",
      " 'reason': 'TrialSucceeded',\n",
      " 'status': 'True',\n",
      " 'type': 'Succeeded'}\n",
      "\n",
      "Trial: cmaes-example-vfc4ptmw\n",
      "Trial Status:\n",
      "{'last_transition_time': datetime.datetime(2023, 7, 28, 12, 20, 37, tzinfo=tzlocal()),\n",
      " 'last_update_time': datetime.datetime(2023, 7, 28, 12, 20, 37, tzinfo=tzlocal()),\n",
      " 'message': 'Trial has succeeded',\n",
      " 'reason': 'TrialSucceeded',\n",
      " 'status': 'True',\n",
      " 'type': 'Succeeded'}\n",
      "\n",
      "Trial: cmaes-example-kjrnx4k2\n",
      "Trial Status:\n",
      "{'last_transition_time': datetime.datetime(2023, 7, 28, 12, 21, 2, tzinfo=tzlocal()),\n",
      " 'last_update_time': datetime.datetime(2023, 7, 28, 12, 21, 2, tzinfo=tzlocal()),\n",
      " 'message': 'Trial has succeeded',\n",
      " 'reason': 'TrialSucceeded',\n",
      " 'status': 'True',\n",
      " 'type': 'Succeeded'}\n",
      "\n"
     ]
    }
   ],
   "source": [
    "trial_list = client.list_trials(experiment_name=EXPERIMENT_NAME)\n",
    "for trial in trial_list:\n",
    "    print(\"Trial:\", trial.metadata.name)\n",
    "    print(\"Trial Status:\", trial.status.conditions[-1], sep=\"\\n\", end=\"\\n\\n\")"
   ]
  },
  {
   "cell_type": "code",
   "execution_count": 16,
   "metadata": {
    "tags": [
     "raises-exception"
    ]
   },
   "outputs": [],
   "source": [
    "# verify that the max trial count was reached\n",
    "assert len(trial_list) == experiment.spec.max_trial_count\n",
    "\n",
    "# verify that all trials were successful\n",
    "for trial in trial_list:\n",
    "    assert trial.status.conditions[-1].type == \"Succeeded\""
   ]
  },
  {
   "cell_type": "markdown",
   "metadata": {},
   "source": [
    "## Get Katib Suggestion\n",
    "\n",
    "Inspect the Suggestion object for more information."
   ]
  },
  {
   "cell_type": "code",
   "execution_count": 17,
   "metadata": {},
   "outputs": [
    {
     "name": "stdout",
     "output_type": "stream",
     "text": [
      "Suggestion: cmaes-example\n",
      "\n",
      "Suggestion Spec:\n",
      "{'algorithm': {'algorithm_name': 'cmaes', 'algorithm_settings': None},\n",
      " 'early_stopping': None,\n",
      " 'requests': 3,\n",
      " 'resume_policy': 'Never'}\n",
      "\n",
      "Suggestion Status:\n",
      "{'algorithm_settings': None,\n",
      " 'completion_time': None,\n",
      " 'conditions': [{'last_transition_time': datetime.datetime(2023, 7, 28, 12, 19, 37, tzinfo=tzlocal()),\n",
      "                 'last_update_time': datetime.datetime(2023, 7, 28, 12, 19, 37, tzinfo=tzlocal()),\n",
      "                 'message': 'Suggestion is created',\n",
      "                 'reason': 'SuggestionCreated',\n",
      "                 'status': 'True',\n",
      "                 'type': 'Created'},\n",
      "                {'last_transition_time': datetime.datetime(2023, 7, 28, 12, 21, 2, tzinfo=tzlocal()),\n",
      "                 'last_update_time': datetime.datetime(2023, 7, 28, 12, 21, 2, tzinfo=tzlocal()),\n",
      "                 'message': 'Suggestion is not running',\n",
      "                 'reason': 'Suggestion is succeeded',\n",
      "                 'status': 'False',\n",
      "                 'type': 'Running'},\n",
      "                {'last_transition_time': datetime.datetime(2023, 7, 28, 12, 21, 2, tzinfo=tzlocal()),\n",
      "                 'last_update_time': datetime.datetime(2023, 7, 28, 12, 21, 2, tzinfo=tzlocal()),\n",
      "                 'message': 'Deployment is not ready',\n",
      "                 'reason': 'Suggestion is succeeded',\n",
      "                 'status': 'False',\n",
      "                 'type': 'DeploymentReady'},\n",
      "                {'last_transition_time': datetime.datetime(2023, 7, 28, 12, 21, 2, tzinfo=tzlocal()),\n",
      "                 'last_update_time': datetime.datetime(2023, 7, 28, 12, 21, 2, tzinfo=tzlocal()),\n",
      "                 'message': \"Suggestion is succeeded, can't be restarted\",\n",
      "                 'reason': 'Experiment is succeeded',\n",
      "                 'status': 'True',\n",
      "                 'type': 'Succeeded'}],\n",
      " 'last_reconcile_time': None,\n",
      " 'start_time': datetime.datetime(2023, 7, 28, 12, 19, 37, tzinfo=tzlocal()),\n",
      " 'suggestion_count': 3,\n",
      " 'suggestions': [{'early_stopping_rules': None,\n",
      "                  'labels': None,\n",
      "                  'name': 'cmaes-example-sw6zbt45',\n",
      "                  'parameter_assignments': [{'name': 'optimizer',\n",
      "                                             'value': 'sgd'},\n",
      "                                            {'name': 'lr',\n",
      "                                             'value': '0.04188612100654'},\n",
      "                                            {'name': 'num-layers',\n",
      "                                             'value': '4'}]},\n",
      "                 {'early_stopping_rules': None,\n",
      "                  'labels': None,\n",
      "                  'name': 'cmaes-example-vfc4ptmw',\n",
      "                  'parameter_assignments': [{'name': 'lr',\n",
      "                                             'value': '0.04511033252270099'},\n",
      "                                            {'name': 'num-layers',\n",
      "                                             'value': '3'},\n",
      "                                            {'name': 'optimizer',\n",
      "                                             'value': 'adam'}]},\n",
      "                 {'early_stopping_rules': None,\n",
      "                  'labels': None,\n",
      "                  'name': 'cmaes-example-kjrnx4k2',\n",
      "                  'parameter_assignments': [{'name': 'lr',\n",
      "                                             'value': '0.02556132716757138'},\n",
      "                                            {'name': 'num-layers',\n",
      "                                             'value': '4'},\n",
      "                                            {'name': 'optimizer',\n",
      "                                             'value': 'ftrl'}]}]}\n",
      "\n"
     ]
    }
   ],
   "source": [
    "suggestion = client.get_suggestion(name=EXPERIMENT_NAME)\n",
    "print(\"Suggestion:\", suggestion.metadata.name, end=\"\\n\\n\")\n",
    "print(\"Suggestion Spec:\", suggestion.spec, sep=\"\\n\", end=\"\\n\\n\")\n",
    "print(\"Suggestion Status:\", suggestion.status, sep=\"\\n\", end=\"\\n\\n\")"
   ]
  },
  {
   "cell_type": "code",
   "execution_count": 18,
   "metadata": {
    "tags": [
     "raises-exception"
    ]
   },
   "outputs": [],
   "source": [
    "assert suggestion.status.conditions[-1].type == \"Succeeded\""
   ]
  },
  {
   "cell_type": "markdown",
   "metadata": {},
   "source": [
    "## Delete Katib Experiment\n",
    "\n",
    "Delete the created Experiment and check that all created resources were removed as well."
   ]
  },
  {
   "cell_type": "code",
   "execution_count": 19,
   "metadata": {},
   "outputs": [
    {
     "name": "stdout",
     "output_type": "stream",
     "text": [
      "Experiment test/cmaes-example has been deleted\n"
     ]
    }
   ],
   "source": [
    "client.delete_experiment(name=EXPERIMENT_NAME)"
   ]
  },
  {
   "cell_type": "code",
   "execution_count": 20,
   "metadata": {},
   "outputs": [],
   "source": [
    "@retry(\n",
    "    wait=wait_exponential(multiplier=2, min=1, max=10),\n",
    "    stop=stop_after_attempt(30),\n",
    "    reraise=True,\n",
    ")\n",
    "def assert_katib_resources_removed(client, experiment_name):\n",
    "    \"\"\"Wait for Katib resources to be removed.\"\"\"\n",
    "    # fetch the existing Experiment names\n",
    "    # verify that the Experiment was deleted successfully\n",
    "    experiments = {exp.metadata.name for exp in client.list_experiments()}\n",
    "    assert experiment_name not in experiments, f\"Failed to delete Katib Experiment {experiment_name}!\"\n",
    "\n",
    "    # fetch the existing Trials and retrieve the names of the Experiments these belong to\n",
    "    # verify that the Trials were removed successfully\n",
    "    trials = {tr.metadata.labels.get(\"katib.kubeflow.org/experiment\") for tr in client.list_trials()}\n",
    "    assert experiment_name not in trials, f\"Katib Trials of Experiment {experiment_name} were not removed!\"\n",
    "\n",
    "    # fetch the existing Suggestion names\n",
    "    # verify that the Suggestion was removed successfully\n",
    "    suggestions = {sugg.metadata.name for sugg in client.list_suggestions()}\n",
    "    assert experiment_name not in suggestions, f\"Katib Suggestion {experiment_name} was not removed!\""
   ]
  },
  {
   "cell_type": "code",
   "execution_count": 21,
   "metadata": {
    "tags": [
     "raises-exception"
    ]
   },
   "outputs": [],
   "source": [
    "# wait for Katib resources to be removed successfully\n",
    "assert_katib_resources_removed(client, EXPERIMENT_NAME)"
   ]
  }
 ],
 "metadata": {
  "kernelspec": {
   "display_name": "Python 3 (ipykernel)",
   "language": "python",
   "name": "python3"
  },
  "language_info": {
   "codemirror_mode": {
    "name": "ipython",
    "version": 3
   },
   "file_extension": ".py",
   "mimetype": "text/x-python",
   "name": "python",
   "nbconvert_exporter": "python",
   "pygments_lexer": "ipython3",
   "version": "3.8.10"
  }
 },
 "nbformat": 4,
 "nbformat_minor": 4
}
