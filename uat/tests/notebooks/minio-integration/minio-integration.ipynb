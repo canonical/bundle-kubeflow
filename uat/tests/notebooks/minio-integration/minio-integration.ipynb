{
 "cells": [
  {
   "cell_type": "markdown",
   "id": "3246d127-6324-4554-be70-93b8dfe95ec7",
   "metadata": {},
   "source": [
    "# Test Minio Integration\n",
    "\n",
    "- list buckets\n",
    "- upload object to bucket\n",
    "- download object\n",
    "- retrieve data with pandas\n",
    "- remove objects\n",
    "- remove bucket"
   ]
  },
  {
   "cell_type": "markdown",
   "id": "50a6ee86-cc49-4399-93be-172095fd0d93",
   "metadata": {},
   "source": [
    "## Setup"
   ]
  },
  {
   "cell_type": "code",
   "execution_count": 1,
   "id": "03ddcaea-c3b6-4fe7-830f-a1f52a812319",
   "metadata": {},
   "outputs": [
    {
     "name": "stdout",
     "output_type": "stream",
     "text": [
      "\u001b[31mERROR: pip's dependency resolver does not currently take into account all the packages that are installed. This behaviour is the source of the following dependency conflicts.\n",
      "boto3 1.27.0 requires botocore<1.31.0,>=1.30.0, but you have botocore 1.29.161 which is incompatible.\n",
      "awscli 1.28.0 requires botocore==1.30.0, but you have botocore 1.29.161 which is incompatible.\u001b[0m\u001b[31m\n",
      "\u001b[0m"
     ]
    }
   ],
   "source": [
    "!pip install minio pandas s3fs -q"
   ]
  },
  {
   "cell_type": "code",
   "execution_count": 2,
   "id": "6b2db553-bd2e-404b-9335-cb0876ab2bfd",
   "metadata": {},
   "outputs": [],
   "source": [
    "import filecmp\n",
    "import os\n",
    "\n",
    "import pandas as pd\n",
    "\n",
    "from minio import Minio\n",
    "from minio.error import BucketAlreadyOwnedByYou, NoSuchKey"
   ]
  },
  {
   "cell_type": "markdown",
   "id": "998316cb-df60-430d-ae89-177e0521cc04",
   "metadata": {},
   "source": [
    "## Configure MinIO Client"
   ]
  },
  {
   "cell_type": "code",
   "execution_count": 3,
   "id": "b773adce-883b-46f7-bc7a-b88ffe5e1165",
   "metadata": {},
   "outputs": [],
   "source": [
    "MINIO_HOST = os.environ[\"MINIO_ENDPOINT_URL\"].split(\"http://\")[1]\n",
    "\n",
    "# Initialize a MinIO client\n",
    "mc = Minio(\n",
    "    endpoint=MINIO_HOST,\n",
    "    access_key=os.environ[\"AWS_ACCESS_KEY_ID\"],\n",
    "    secret_key=os.environ[\"AWS_SECRET_ACCESS_KEY\"],\n",
    "    secure=False,\n",
    ")"
   ]
  },
  {
   "cell_type": "markdown",
   "id": "0070510c-0b52-40ee-a984-5d88ae4a3938",
   "metadata": {},
   "source": [
    "## List Existing Buckets"
   ]
  },
  {
   "cell_type": "code",
   "execution_count": 4,
   "id": "1204b151-4213-4398-816e-1a63bbd70634",
   "metadata": {},
   "outputs": [
    {
     "name": "stdout",
     "output_type": "stream",
     "text": [
      "mlflow\n",
      "\t 624471807852528081/\n",
      "\t 872778786834962304/\n"
     ]
    }
   ],
   "source": [
    "# List buckets\n",
    "buckets = mc.list_buckets()\n",
    "for bucket in buckets:\n",
    "    print(bucket.name)\n",
    "    # List objects in bucket\n",
    "    objects = mc.list_objects(bucket.name)\n",
    "    for obj in objects:\n",
    "        print(\"\\t\", obj.object_name)"
   ]
  },
  {
   "cell_type": "markdown",
   "id": "aef234a3-ad96-4852-b58e-f8c9fb048abb",
   "metadata": {},
   "source": [
    "## Create Bucket"
   ]
  },
  {
   "cell_type": "code",
   "execution_count": 5,
   "id": "49d525d9-7a72-4b5c-a73c-b0b41d9829bd",
   "metadata": {},
   "outputs": [],
   "source": [
    "BUCKET = \"kf-testing-minio\""
   ]
  },
  {
   "cell_type": "code",
   "execution_count": 6,
   "id": "e78e8267-d72b-4dbf-87f3-4468f4e25de8",
   "metadata": {},
   "outputs": [],
   "source": [
    "try:\n",
    "    mc.make_bucket(BUCKET)\n",
    "except BucketAlreadyOwnedByYou:\n",
    "    print(f\"Bucket {BUCKET} already exists!\")"
   ]
  },
  {
   "cell_type": "code",
   "execution_count": 7,
   "id": "50788e8d-df7a-4b5f-9384-1296cd1c0673",
   "metadata": {
    "tags": [
     "raises-exception"
    ]
   },
   "outputs": [],
   "source": [
    "# check that the bucket was created successfully\n",
    "assert mc.bucket_exists(BUCKET), f\"Bucket {BUCKET} does not exist!\"\n",
    "# check that the new bucket is empty\n",
    "assert [obj for obj in mc.list_objects(BUCKET)] == [], f\"Bucket {BUCKET} is not empty!\""
   ]
  },
  {
   "cell_type": "markdown",
   "id": "198dcffd-9457-4d3f-8dee-614c940bf8a3",
   "metadata": {},
   "source": [
    "## Upload Data to Bucket"
   ]
  },
  {
   "cell_type": "code",
   "execution_count": 8,
   "id": "4cac97b9-b938-4b5d-a4ac-8744dd30c197",
   "metadata": {},
   "outputs": [
    {
     "data": {
      "text/plain": [
       "('4a507473e499735a94edc9ad9704a545', None)"
      ]
     },
     "execution_count": 8,
     "metadata": {},
     "output_type": "execute_result"
    }
   ],
   "source": [
    "LOCAL_OBJECT = \"sample.txt\"\n",
    "UPLOADED_OBJECT = \"uploaded-sample.txt\"\n",
    "DOWNLOADED_OBJECT = \"downloaded-sample.txt\"\n",
    "mc.fput_object(BUCKET, UPLOADED_OBJECT, LOCAL_OBJECT)"
   ]
  },
  {
   "cell_type": "code",
   "execution_count": 9,
   "id": "24d1a526-f5df-4665-9d76-82535c7df1f2",
   "metadata": {
    "tags": [
     "raises-exception"
    ]
   },
   "outputs": [],
   "source": [
    "# check that the bucket only contains the uploaded object\n",
    "objects = [obj for obj in mc.list_objects(BUCKET)]\n",
    "assert len(objects) == 1, f\"Expected only 1 object in bucket {BUCKET}!\"\n",
    "assert objects[0].object_name == UPLOADED_OBJECT, \"The uploaded and local object names do not match!\"\n",
    "\n",
    "# check that the size is the same\n",
    "file_stat = os.stat(LOCAL_OBJECT)\n",
    "assert objects[0].size == file_stat.st_size, \"The uploaded and local objects are not of the same size!\""
   ]
  },
  {
   "cell_type": "markdown",
   "id": "ddba3ba8-a177-4965-adae-cccbb6274050",
   "metadata": {},
   "source": [
    "### Download Object"
   ]
  },
  {
   "cell_type": "code",
   "execution_count": 10,
   "id": "65aaa914-7e1a-4701-8b86-5e86ecd74be5",
   "metadata": {},
   "outputs": [
    {
     "data": {
      "text/plain": [
       "<minio.definitions.Object at 0x7fc00f2e5430>"
      ]
     },
     "execution_count": 10,
     "metadata": {},
     "output_type": "execute_result"
    }
   ],
   "source": [
    "mc.fget_object(BUCKET, UPLOADED_OBJECT, DOWNLOADED_OBJECT)"
   ]
  },
  {
   "cell_type": "code",
   "execution_count": 11,
   "id": "7655092d-4c60-4274-93d3-41aa1d55f1bf",
   "metadata": {
    "tags": [
     "raises-exception"
    ]
   },
   "outputs": [],
   "source": [
    "# check that the file was downloaded successfully\n",
    "assert os.path.exists(DOWNLOADED_OBJECT), f\"Failed to download object {UPLOADED_OBJECT}!\"\n",
    "\n",
    "# check that its content matches that of the original file\n",
    "assert filecmp.cmp(LOCAL_OBJECT, DOWNLOADED_OBJECT, shallow=False), f\"Downloaded object {DOWNLOADED_OBJECT} does not match the original!\""
   ]
  },
  {
   "cell_type": "markdown",
   "id": "4d91d5eb-f45e-423d-a6b9-18eba066e11b",
   "metadata": {},
   "source": [
    "### Download Data with Pandas"
   ]
  },
  {
   "cell_type": "code",
   "execution_count": 12,
   "id": "39290b93-eaa6-45d0-9c23-ebe3d7e79e3d",
   "metadata": {},
   "outputs": [
    {
     "data": {
      "text/plain": [
       "('c886b0a6971427fc0faf293423e7a320', None)"
      ]
     },
     "execution_count": 12,
     "metadata": {},
     "output_type": "execute_result"
    }
   ],
   "source": [
    "LOCAL_CSV = \"sample.csv\"\n",
    "UPLOADED_CSV = \"uploaded-sample.csv\"\n",
    "DOWNLOADED_CSV = \"downloaded-sample.csv\"\n",
    "mc.fput_object(BUCKET, UPLOADED_CSV, LOCAL_CSV)"
   ]
  },
  {
   "cell_type": "code",
   "execution_count": 13,
   "id": "04ac9362-d840-46a4-a1e1-ed3d3e6dad81",
   "metadata": {},
   "outputs": [],
   "source": [
    "local = pd.read_csv(LOCAL_CSV, delimiter=\";\")\n",
    "uploaded = pd.read_csv(f\"s3://{BUCKET}/{UPLOADED_CSV}\", delimiter=\";\",storage_options={\n",
    "    \"key\": os.environ[\"AWS_ACCESS_KEY_ID\"],\n",
    "    \"secret\": os.environ[\"AWS_SECRET_ACCESS_KEY\"],\n",
    "    \"client_kwargs\":{\n",
    "        \"endpoint_url\": os.environ[\"MINIO_ENDPOINT_URL\"]\n",
    "    }\n",
    "})"
   ]
  },
  {
   "cell_type": "code",
   "execution_count": 14,
   "id": "f2b0746c-00e1-4d99-b86d-c1db19d7e087",
   "metadata": {},
   "outputs": [
    {
     "data": {
      "text/html": [
       "<div>\n",
       "<style scoped>\n",
       "    .dataframe tbody tr th:only-of-type {\n",
       "        vertical-align: middle;\n",
       "    }\n",
       "\n",
       "    .dataframe tbody tr th {\n",
       "        vertical-align: top;\n",
       "    }\n",
       "\n",
       "    .dataframe thead th {\n",
       "        text-align: right;\n",
       "    }\n",
       "</style>\n",
       "<table border=\"1\" class=\"dataframe\">\n",
       "  <thead>\n",
       "    <tr style=\"text-align: right;\">\n",
       "      <th></th>\n",
       "      <th>col1</th>\n",
       "      <th>col2</th>\n",
       "      <th>col3</th>\n",
       "    </tr>\n",
       "  </thead>\n",
       "  <tbody>\n",
       "    <tr>\n",
       "      <th>0</th>\n",
       "      <td>1</td>\n",
       "      <td>2</td>\n",
       "      <td>3</td>\n",
       "    </tr>\n",
       "    <tr>\n",
       "      <th>1</th>\n",
       "      <td>3</td>\n",
       "      <td>4</td>\n",
       "      <td>5</td>\n",
       "    </tr>\n",
       "    <tr>\n",
       "      <th>2</th>\n",
       "      <td>3</td>\n",
       "      <td>4</td>\n",
       "      <td>5</td>\n",
       "    </tr>\n",
       "  </tbody>\n",
       "</table>\n",
       "</div>"
      ],
      "text/plain": [
       "   col1  col2  col3\n",
       "0     1     2     3\n",
       "1     3     4     5\n",
       "2     3     4     5"
      ]
     },
     "execution_count": 14,
     "metadata": {},
     "output_type": "execute_result"
    }
   ],
   "source": [
    "# inspect contents of uploaded CSV\n",
    "uploaded"
   ]
  },
  {
   "cell_type": "code",
   "execution_count": 15,
   "id": "58f95acc-f8fc-4ee4-afbe-66adc97ee8aa",
   "metadata": {
    "tags": [
     "raises-exception"
    ]
   },
   "outputs": [],
   "source": [
    "assert local.equals(uploaded), \"Uploaded and local CSV contents do not match!\""
   ]
  },
  {
   "cell_type": "markdown",
   "id": "18e5adf5-6de1-469f-93ac-d82212b6ccd2",
   "metadata": {},
   "source": [
    "## Clean Up"
   ]
  },
  {
   "cell_type": "code",
   "execution_count": 16,
   "id": "c5c3ddbc-93d7-4758-a933-6cf8bfa378a5",
   "metadata": {},
   "outputs": [],
   "source": [
    "mc.remove_object(BUCKET, UPLOADED_OBJECT)\n",
    "mc.remove_object(BUCKET, UPLOADED_CSV)"
   ]
  },
  {
   "cell_type": "code",
   "execution_count": 17,
   "id": "0ef62dc0-a6f7-426d-b580-8b7567bc2ae4",
   "metadata": {
    "tags": [
     "raises-exception"
    ]
   },
   "outputs": [],
   "source": [
    "# check that the bucket is now empty\n",
    "assert [obj for obj in mc.list_objects(BUCKET)] == [], f\"Bucket {BUCKET} is not empty!\""
   ]
  },
  {
   "cell_type": "code",
   "execution_count": 18,
   "id": "712cceec-0394-4fd6-9c95-ae1de1ea94dd",
   "metadata": {
    "tags": [
     "raises-exception"
    ]
   },
   "outputs": [],
   "source": [
    "# check that attempting to retrieve a deleted object raises an error\n",
    "try:\n",
    "    res = None\n",
    "    res = mc.get_object(BUCKET, UPLOADED_OBJECT)\n",
    "except Exception as e:\n",
    "    if not isinstance(e, NoSuchKey):\n",
    "        raise\n",
    "    \n",
    "assert not res, f\"Failed to delete {UPLOADED_OBJECT}!\""
   ]
  },
  {
   "cell_type": "code",
   "execution_count": 19,
   "id": "394b7a65-c622-49f9-a9ad-3d0ebfda08de",
   "metadata": {},
   "outputs": [],
   "source": [
    "mc.remove_bucket(BUCKET)"
   ]
  },
  {
   "cell_type": "code",
   "execution_count": 20,
   "id": "1896c46b-f83c-4152-b6c2-bbfde1242368",
   "metadata": {
    "tags": [
     "raises-exception"
    ]
   },
   "outputs": [],
   "source": [
    "assert BUCKET not in {b.name for b in mc.list_buckets()}, f\"Failed to delete bucket {BUCKET}!\""
   ]
  },
  {
   "cell_type": "code",
   "execution_count": 21,
   "id": "88e95d3b-62f1-497c-b837-fde1b1b226dd",
   "metadata": {},
   "outputs": [],
   "source": [
    "try:\n",
    "    os.remove(DOWNLOADED_OBJECT)\n",
    "except FileNotFoundError:\n",
    "    print(f\"File {DOWNLOADED_OBJECT} already deleted!\")"
   ]
  }
 ],
 "metadata": {
  "kernelspec": {
   "display_name": "Python 3 (ipykernel)",
   "language": "python",
   "name": "python3"
  },
  "language_info": {
   "codemirror_mode": {
    "name": "ipython",
    "version": 3
   },
   "file_extension": ".py",
   "mimetype": "text/x-python",
   "name": "python",
   "nbconvert_exporter": "python",
   "pygments_lexer": "ipython3",
   "version": "3.8.10"
  }
 },
 "nbformat": 4,
 "nbformat_minor": 5
}
