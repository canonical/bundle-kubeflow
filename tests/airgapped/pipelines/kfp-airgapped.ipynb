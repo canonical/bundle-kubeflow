{
 "cells": [
  {
   "cell_type": "markdown",
   "id": "f269914d",
   "metadata": {},
   "source": [
    "# KFP V2 Data Passing Pipeline in Airgapped\n",
    "This test notebook is based on the [upstream example](https://github.com/kubeflow/pipelines/blob/master/samples/tutorials/Data%20passing%20in%20python%20components/Data%20passing%20in%20python%20components%20-%20Files.py).\n",
    "\n",
    "The notebook defines and runs the Data Passing with Python Pipeline, while setting the `base_image` to use an image from the local registry. For details on the base image used and instructions on running the test, see the [README.md](./README.md)."
   ]
  },
  {
   "cell_type": "code",
   "execution_count": null,
   "id": "519f5260-f7da-4e52-a9bc-c5f8b410ff66",
   "metadata": {
    "tags": []
   },
   "outputs": [],
   "source": [
    "import kfp\n",
    "\n",
    "from typing import Dict, List\n",
    "\n",
    "from kfp import dsl\n",
    "from kfp.dsl import Input, InputPath, Output, OutputPath, Dataset, Model, component"
   ]
  },
  {
   "cell_type": "code",
   "execution_count": null,
   "id": "1c015f39-61f1-4dfa-b564-5cf1d7f47326",
   "metadata": {
    "tags": []
   },
   "outputs": [],
   "source": [
    "client = kfp.Client()"
   ]
  },
  {
   "cell_type": "code",
   "execution_count": null,
   "id": "8a48f8bb-431e-4653-b2da-13394d37632e",
   "metadata": {
    "tags": []
   },
   "outputs": [],
   "source": [
    "@component(base_image='172.17.0.2:5000/pipelines-runner:ckf-1.8')\n",
    "def preprocess(\n",
    "    # An input parameter of type string.\n",
    "    message: str,\n",
    "    # Use Output[T] to get a metadata-rich handle to the output artifact\n",
    "    # of type `Dataset`.\n",
    "    output_dataset_one: Output[Dataset],\n",
    "    # A locally accessible filepath for another output artifact of type\n",
    "    # `Dataset`.\n",
    "    output_dataset_two_path: OutputPath('Dataset'),\n",
    "    # A locally accessible filepath for an output parameter of type string.\n",
    "    output_parameter_path: OutputPath(str),\n",
    "    # A locally accessible filepath for an output parameter of type bool.\n",
    "    output_bool_parameter_path: OutputPath(bool),\n",
    "    # A locally accessible filepath for an output parameter of type dict.\n",
    "    output_dict_parameter_path: OutputPath(Dict[str, int]),\n",
    "    # A locally accessible filepath for an output parameter of type list.\n",
    "    output_list_parameter_path: OutputPath(List[str]),\n",
    "):\n",
    "    \"\"\"Dummy preprocessing step.\"\"\"\n",
    "\n",
    "    # Use Dataset.path to access a local file path for writing.\n",
    "    # One can also use Dataset.uri to access the actual URI file path.\n",
    "    with open(output_dataset_one.path, 'w') as f:\n",
    "        f.write(message)\n",
    "\n",
    "    # OutputPath is used to just pass the local file path of the output artifact\n",
    "    # to the function.\n",
    "    with open(output_dataset_two_path, 'w') as f:\n",
    "        f.write(message)\n",
    "\n",
    "    with open(output_parameter_path, 'w') as f:\n",
    "        f.write(message)\n",
    "\n",
    "    with open(output_bool_parameter_path, 'w') as f:\n",
    "        f.write(\n",
    "            str(True))  # use either `str()` or `json.dumps()` for bool values.\n",
    "\n",
    "    import json\n",
    "    with open(output_dict_parameter_path, 'w') as f:\n",
    "        f.write(json.dumps({'A': 1, 'B': 2}))\n",
    "\n",
    "    with open(output_list_parameter_path, 'w') as f:\n",
    "        f.write(json.dumps(['a', 'b', 'c']))"
   ]
  },
  {
   "cell_type": "code",
   "execution_count": null,
   "id": "122c83c8-4471-44b7-93e2-34c533742c7f",
   "metadata": {
    "tags": []
   },
   "outputs": [],
   "source": [
    "@component(base_image='172.17.0.2:5000/pipelines-runner:ckf-1.8')\n",
    "def train(\n",
    "    # Use InputPath to get a locally accessible path for the input artifact\n",
    "    # of type `Dataset`.\n",
    "    dataset_one_path: InputPath('Dataset'),\n",
    "    # Use Input[T] to get a metadata-rich handle to the input artifact\n",
    "    # of type `Dataset`.\n",
    "    dataset_two: Input[Dataset],\n",
    "    # An input parameter of type string.\n",
    "    message: str,\n",
    "    # Use Output[T] to get a metadata-rich handle to the output artifact\n",
    "    # of type `Model`.\n",
    "    model: Output[Model],\n",
    "    # An input parameter of type bool.\n",
    "    input_bool: bool,\n",
    "    # An input parameter of type dict.\n",
    "    input_dict: Dict[str, int],\n",
    "    # An input parameter of type List[str].\n",
    "    input_list: List[str],\n",
    "    # An input parameter of type int with a default value.\n",
    "    num_steps: int = 100,\n",
    "):\n",
    "    \"\"\"Dummy Training step.\"\"\"\n",
    "    with open(dataset_one_path, 'r') as input_file:\n",
    "        dataset_one_contents = input_file.read()\n",
    "\n",
    "    with open(dataset_two.path, 'r') as input_file:\n",
    "        dataset_two_contents = input_file.read()\n",
    "\n",
    "    line = (f'dataset_one_contents: {dataset_one_contents} || '\n",
    "            f'dataset_two_contents: {dataset_two_contents} || '\n",
    "            f'message: {message} || '\n",
    "            f'input_bool: {input_bool}, type {type(input_bool)} || '\n",
    "            f'input_dict: {input_dict}, type {type(input_dict)} || '\n",
    "            f'input_list: {input_list}, type {type(input_list)} \\n')\n",
    "\n",
    "    with open(model.path, 'w') as output_file:\n",
    "        for i in range(num_steps):\n",
    "            output_file.write('Step {}\\n{}\\n=====\\n'.format(i, line))\n",
    "\n",
    "    # model is an instance of Model artifact, which has a .metadata dictionary\n",
    "    # to store arbitrary metadata for the output artifact.\n",
    "    model.metadata['accuracy'] = 0.9"
   ]
  },
  {
   "cell_type": "code",
   "execution_count": null,
   "id": "5edf855b-68ba-45ef-820d-67f7282eb440",
   "metadata": {
    "tags": []
   },
   "outputs": [],
   "source": [
    "@dsl.pipeline(pipeline_root='', name='tutorial-data-passing')\n",
    "def data_passing_pipeline(message: str = 'message'):\n",
    "    preprocess_task = preprocess(message=message)\n",
    "    train_task = train(\n",
    "        dataset_one_path=preprocess_task.outputs['output_dataset_one'],\n",
    "        dataset_two=preprocess_task.outputs['output_dataset_two_path'],\n",
    "        message=preprocess_task.outputs['output_parameter_path'],\n",
    "        input_bool=preprocess_task.outputs['output_bool_parameter_path'],\n",
    "        input_dict=preprocess_task.outputs['output_dict_parameter_path'],\n",
    "        input_list=preprocess_task.outputs['output_list_parameter_path'],\n",
    "    )"
   ]
  },
  {
   "cell_type": "code",
   "execution_count": null,
   "id": "9120d442-e041-4a83-8ed2-16d59fdf0e59",
   "metadata": {
    "tags": []
   },
   "outputs": [],
   "source": [
    "EXPERIMENT_NAME=\"Data passing in python\""
   ]
  },
  {
   "cell_type": "code",
   "execution_count": null,
   "id": "7cec5bdc-eb01-4c89-b416-dc847dd54481",
   "metadata": {
    "tags": []
   },
   "outputs": [],
   "source": [
    "run = client.create_run_from_pipeline_func(\n",
    "    data_passing_pipeline,\n",
    "    experiment_name=EXPERIMENT_NAME,\n",
    ")"
   ]
  }
 ],
 "metadata": {
  "kernelspec": {
   "display_name": "Python 3 (ipykernel)",
   "language": "python",
   "name": "python3"
  },
  "language_info": {
   "codemirror_mode": {
    "name": "ipython",
    "version": 3
   },
   "file_extension": ".py",
   "mimetype": "text/x-python",
   "name": "python",
   "nbconvert_exporter": "python",
   "pygments_lexer": "ipython3",
   "version": "3.11.6"
  }
 },
 "nbformat": 4,
 "nbformat_minor": 5
}
